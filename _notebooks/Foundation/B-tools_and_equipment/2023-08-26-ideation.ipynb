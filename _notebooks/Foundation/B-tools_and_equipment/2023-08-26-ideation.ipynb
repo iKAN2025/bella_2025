{
 "cells": [
  {
   "cell_type": "raw",
   "metadata": {},
   "source": [
    "---\n",
    "layout: post\n",
    "title: Index Ideation\n",
    "permalink: /indexideation\n",
    "toc: true\n",
    "comments: true\n",
    "---"
   ]
  },
  {
   "cell_type": "markdown",
   "metadata": {},
   "source": [
    "I wanted to make something fun and user-interactive. When I asked ChatGpt on how to get started, it recomeneded that I have a color change box."
   ]
  },
  {
   "cell_type": "markdown",
   "metadata": {},
   "source": [
    "## Experiment 1: Iterating Over Arrays (Color) With Javascript"
   ]
  },
  {
   "cell_type": "code",
   "execution_count": 4,
   "metadata": {
    "vscode": {
     "languageId": "html"
    }
   },
   "outputs": [
    {
     "data": {
      "application/javascript": "// Define an array of colors\nconst colors = ['#FF6347', '#4CAF50', '#2196F3', '#FFC107'];\n\n// Iterate over the array and log each color with its index\ncolors.forEach((color, index) => {\n    console.log(`Index: ${index}, Color: ${color}`);\n\n    // Example of additional information\n    console.log(`- Color Description: A color with hex value ${color}`);\n});\n",
      "text/plain": [
       "<IPython.core.display.Javascript object>"
      ]
     },
     "metadata": {},
     "output_type": "display_data"
    }
   ],
   "source": [
    "%%js \n",
    "// Define an array of colors\n",
    "const colors = ['#FF6347', '#4CAF50', '#2196F3', '#FFC107'];\n",
    "\n",
    "// Iterate over the array and log each color with its index\n",
    "colors.forEach((color, index) => {\n",
    "    console.log(`Index: ${index}, Color: ${color}`);\n",
    "\n",
    "    // Example of additional information\n",
    "    console.log(`- Color Description: A color with hex value ${color}`);\n",
    "});\n"
   ]
  },
  {
   "cell_type": "markdown",
   "metadata": {},
   "source": [
    "\n",
    "## Experiment 1: Basic Drag and Drop\n",
    "\n",
    "I asked ChatGpt for drag and drop ideas, and had a startig idea for an html page. Then I worked though and refined this code"
   ]
  },
  {
   "cell_type": "markdown",
   "metadata": {},
   "source": [
    "# Experimenting with javascript, styling, and html helped me form ideas."
   ]
  },
  {
   "cell_type": "markdown",
   "metadata": {},
   "source": [
    "<html lang=\"en\">\n",
    "<head>\n",
    "    <meta charset=\"UTF-8\">\n",
    "    <meta name=\"viewport\" content=\"width=device-width, initial-scale=1.0\">\n",
    "    <title>Startup Drag Drop</title>\n",
    "    <style>\n",
    "        .draggable {\n",
    "            width: 100px;\n",
    "            height: 50px;\n",
    "            background-color: #4CAF50;\n",
    "            color: white;\n",
    "            text-align: center;\n",
    "            line-height: 50px;\n",
    "            margin: 10px;\n",
    "            cursor: move;\n",
    "            border-radius: 5px;\n",
    "        }\n",
    "\n",
    "        .dropzone {\n",
    "            width: 400px;\n",
    "            height: 400px;\n",
    "            border: 2px dashed #4CAF50;\n",
    "            position: relative;\n",
    "            margin-top: 20px;\n",
    "        }\n",
    "    </style>\n",
    "</head>\n",
    "<body>\n",
    "    <div id=\"draggable\" class=\"draggable\" draggable=\"true\">Drag me</div>\n",
    "    <div id=\"dropzone\" class=\"dropzone\"></div>\n",
    "\n",
    "    <script>\n",
    "        const draggable = document.getElementById('draggable');\n",
    "        const dropzone = document.getElementById('dropzone');\n",
    "\n",
    "        draggable.addEventListener('dragstart', (event) => {\n",
    "            event.dataTransfer.setData('text/plain', 'Dragged Element');\n",
    "        });\n",
    "\n",
    "        dropzone.addEventListener('dragover', (event) => {\n",
    "            event.preventDefault();\n",
    "        });\n",
    "\n",
    "        dropzone.addEventListener('drop', (event) => {\n",
    "            event.preventDefault();\n",
    "            alert('Element Dropped');\n",
    "        });\n",
    "    </script>\n",
    "</body>\n",
    "</html>\n"
   ]
  }
 ],
 "metadata": {
  "kernelspec": {
   "display_name": "Python 3",
   "language": "python",
   "name": "python3"
  },
  "language_info": {
   "codemirror_mode": {
    "name": "ipython",
    "version": 3
   },
   "file_extension": ".py",
   "mimetype": "text/x-python",
   "name": "python",
   "nbconvert_exporter": "python",
   "pygments_lexer": "ipython3",
   "version": "3.11.4"
  }
 },
 "nbformat": 4,
 "nbformat_minor": 2
}
