{
 "cells": [
  {
   "cell_type": "raw",
   "metadata": {
    "vscode": {
     "languageId": "raw"
    }
   },
   "source": [
    "---\n",
    "toc: false\n",
    "title: JavaScript Input\n",
    "description: Learn input by making a grade calculator takes multiple values and does a calculation on them. User input fundamental for all projects.\n",
    "categories: [Javascript]\n",
    "permalink: /frontend/basics/input\n",
    "menu: nav/frontend_basics.html\n",
    "---"
   ]
  },
  {
   "cell_type": "markdown",
   "metadata": {},
   "source": [
    "## HTML\n",
    "> Identify the HTML for a grade calculator;  it enables input and totals.\n",
    "\n",
    "- [DIV element](https://www.w3schools.com/tags/tag_div.asp) defines a division or a section in an HTML document. Used to divide headings, totals, and input in this example.\n",
    "- [SPAN element](https://www.w3schools.com/tags/tag_span.asp) defines a inline container within text. Used to capture different totals in this example.\n",
    "- [INPUT tag](https://www.w3schools.com/tags/tag_input.asp) specifies an input field where the user can enter data. Used to capture series of numbers in this example.\n",
    "- [ID attributes](https://www.w3schools.com/html/html_id.asp) are used by CSS for style and JavaScript for reference.  Used to update totals in this example.\n",
    "\n",
    "\n",
    "### Resources HTML\n",
    "- [HTML Tutorial](https://www.w3schools.com/html/)\n",
    "- [learn about id](https://www.washington.edu/accesscomputing/webd2/student/unit3/module5/lesson1.html)"
   ]
  },
  {
   "cell_type": "markdown",
   "metadata": {},
   "source": [
    "## JavaScript newInputLine\n",
    "> Identify the function that generates a new input line after each score is entered.\n",
    "\n",
    "### Resources createElement\n",
    "- [Create Element](https://www.w3schools.com/jsref/met_document_createelement.asp)\n",
    "- [Set Attribute](https://www.w3schools.com/jsref/met_element_setattribute.asp)"
   ]
  },
  {
   "cell_type": "markdown",
   "metadata": {},
   "source": [
    "## JavaScript calculator\n",
    "> Indentify the code below calculates the the total, count, and average of the user inputs.\n",
    "\n",
    "### Resources getElements\n",
    "- [Get Elements by ID](https://www.w3schools.com/jsref/met_document_getelementbyid.asp)\n",
    "- [Get Elements by Name](https://www.w3schools.com/jsref/met_doc_getelementsbyname.asp)\n"
   ]
  },
  {
   "cell_type": "markdown",
   "metadata": {},
   "source": [
    "## HTML Magic runs Calculator\n",
    "> The code below runs in VSCode and on Jupyter Notebook. \n",
    "- [SCRIPT tag](https://www.w3schools.com/tags/tag_script.asp) is used to embed JavaScript inside of HTML"
   ]
  },
  {
   "cell_type": "markdown",
   "metadata": {},
   "source": [
    "## Hacks\n",
    "Here are some ideas to alter this calculator.\n",
    "- Input two scores: 1.8 out of 2\n",
    "- Add title: Tool Check 1.8 out of 2\n",
    "- Format with colors or put into a table\n",
    "- Advanced, save in localstorage and repaint on load\n",
    "\n",
    "Sample Table\n",
    "\n",
    "| Assignment | Score | Maximum |\n",
    "| ---------- | ----- | ------- |\n",
    "| Tool Check |  1.8  |   2.0   |\n",
    "| Lab Notebook Check |  1.7  |   2.0   |\n",
    "| Pair Showcase |  4.7  |   5.0   |\n",
    "\n",
    "\n",
    "Here are some ideas to alter former calculator [runtime](https://nighthawkcoders.github.io/teacher/techtalk/home_style), [source](https://raw.githubusercontent.com/nighthawkcoders/teacher/main/_posts/2023-08-23-javascript-calculator.md).\n",
    "- Right justify result\n",
    "- Test conditions on small, big, and decimal numbers, report on findings. Fix issues.\n",
    "- Add the common math operation that is missing from calculator (/)\n",
    "- Advanced, implement a 1 number operation (ie SQRT) \n"
   ]
  },
  {
   "cell_type": "markdown",
   "metadata": {},
   "source": [
    "<!-- Heading -->\n",
    "<h2>Grade Calculator</h2>\n",
    "\n",
    "[Grade Calculator]({{site.baseurl}}/score)"
   ]
  },
  {
   "cell_type": "markdown",
   "metadata": {},
   "source": []
  },
  {
   "cell_type": "markdown",
   "metadata": {},
   "source": []
  },
  {
   "cell_type": "markdown",
   "metadata": {},
   "source": []
  }
 ],
 "metadata": {
  "kernelspec": {
   "display_name": "Python 3",
   "language": "python",
   "name": "python3"
  },
  "language_info": {
   "codemirror_mode": {
    "name": "ipython",
    "version": 3
   },
   "file_extension": ".py",
   "mimetype": "text/x-python",
   "name": "python",
   "nbconvert_exporter": "python",
   "pygments_lexer": "ipython3",
   "version": "3.12.5"
  },
  "vscode": {
   "interpreter": {
    "hash": "65f6bdf080211a4261ca30203f2967d5d410cd9d47d7b7e5694003092334a949"
   }
  }
 },
 "nbformat": 4,
 "nbformat_minor": 4
}
