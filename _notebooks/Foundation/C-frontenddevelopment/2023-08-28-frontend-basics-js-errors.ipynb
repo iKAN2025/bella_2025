{
 "cells": [
  {
   "cell_type": "raw",
   "metadata": {
    "vscode": {
     "languageId": "raw"
    }
   },
   "source": [
    "---\n",
    "layout: post\n",
    "title: Correcting errors\n",
    "description: Practice with identifying and correcting errors in code blocks\n",
    "permalink: /frontend/basics/js-debug\n",
    "categories: [Javascript]\n",
    "author: Safin Singh and Rohan Juneja\n",
    "menu: nav/frontend_basics.html\n",
    "---"
   ]
  },
  {
   "cell_type": "markdown",
   "metadata": {},
   "source": [
    "## Identifying and Correcting Errors \n",
    "\n",
    "> Become familiar with types of errors and strategies for fixing them\n",
    "\n",
    "- Review CollegeBoard videos and take notes on blog\n",
    "- Complete assigned MCQ questions if applicable"
   ]
  },
  {
   "cell_type": "markdown",
   "metadata": {},
   "source": [
    "## Code Segments\n",
    "\n",
    "Practice fixing the following code segments!"
   ]
  },
  {
   "cell_type": "markdown",
   "metadata": {},
   "source": [
    "### Segment 1: Alphabet List\n",
    "\n",
    "Intended behavior: create a list of characters from the string contained in the variable `alphabet`\n",
    "\n",
    "### Code:"
   ]
  },
  {
   "cell_type": "code",
   "execution_count": 1,
   "metadata": {
    "vscode": {
     "languageId": "javascript"
    }
   },
   "outputs": [
    {
     "data": {
      "application/javascript": "\n\nvar alphabet = \"abcdefghijklmnopqrstuvwxyz\";\nvar alphabetList = [];\n\nfor (var i = 0; i < alphabet.length; i++) {\n    alphabetList.push(alphabet[i]);\n}\n\nconsole.log(alphabetList);\n",
      "text/plain": [
       "<IPython.core.display.Javascript object>"
      ]
     },
     "metadata": {},
     "output_type": "display_data"
    }
   ],
   "source": [
    "%%js\n",
    "\n",
    "\n",
    "var alphabet = \"abcdefghijklmnopqrstuvwxyz\";\n",
    "var alphabetList = [];\n",
    "\n",
    "for (var i = 0; i < alphabet.length; i++) {\n",
    "    alphabetList.push(alphabet[i]);\n",
    "}\n",
    "\n",
    "console.log(alphabetList);\n"
   ]
  },
  {
   "cell_type": "markdown",
   "metadata": {},
   "source": [
    "#### What I Changed\n",
    "\n",
    "What I Changed:\n",
    "\n",
    "- Updated the loop to iterate over the entire length of the alphabet string.\n",
    "- Pushed each character (alphabet[i]) to alphabetList instead of pushing i.\n"
   ]
  },
  {
   "cell_type": "markdown",
   "metadata": {},
   "source": [
    "### Segment 2: Numbered Alphabet\n",
    "\n",
    "Intended behavior: print the number of a given alphabet letter within the alphabet. For example:\n",
    "```\n",
    "\"_\" is letter number _ in the alphabet\n",
    "```\n",
    "\n",
    "Where the underscores (_) are replaced with the letter and the position of that letter within the alphabet (e.g. a=1, b=2, etc.)\n",
    "\n",
    "### Code:"
   ]
  },
  {
   "cell_type": "code",
   "execution_count": 2,
   "metadata": {
    "vscode": {
     "languageId": "javascript"
    }
   },
   "outputs": [
    {
     "data": {
      "application/javascript": "\nvar alphabet = \"abcdefghijklmnopqrstuvwxyz\";\nvar alphabetList = [];\n\nfor (var i = 0; i < alphabet.length; i++) {\n    alphabetList.push(alphabet[i]);\n}\n\nconsole.log(alphabetList);\n",
      "text/plain": [
       "<IPython.core.display.Javascript object>"
      ]
     },
     "metadata": {},
     "output_type": "display_data"
    }
   ],
   "source": [
    "%%js\n",
    "\n",
    "// Copy your previous code to build alphabetList here\n",
    "\n",
    "let letterNumber = 5\n",
    "\n",
    "for (var i = 0; i < alphabetList; i++) {\n",
    "\tif (i === letterNumber) {\n",
    "\t\tconsole.log(letterNumber + \" is letter number 1 in the alphabet\")\n",
    "\t}\n",
    "}"
   ]
  },
  {
   "cell_type": "markdown",
   "metadata": {},
   "source": [
    "#### What I Changed\n",
    "\n",
    "- The loop's condition is incorrect: i < alphabetList should be i < alphabetList.length.\n",
    "- The console.log statement is incorrect. It doesn't print the correct letter and its position.\n",
    "- The output message says \"number 1 in the alphabet\" instead of the correct letter number.\n"
   ]
  },
  {
   "cell_type": "markdown",
   "metadata": {},
   "source": [
    "### Segment 3: Odd Numbers\n",
    "\n",
    "Intended behavior: print a list of all the odd numbers below 10\n",
    "\n",
    "### Code:"
   ]
  },
  {
   "cell_type": "code",
   "execution_count": 3,
   "metadata": {
    "vscode": {
     "languageId": "javascript"
    }
   },
   "outputs": [
    {
     "data": {
      "application/javascript": "\nvar alphabet = \"abcdefghijklmnopqrstuvwxyz\";\nvar alphabetList = [];\n\nfor (var i = 0; i < alphabet.length; i++) {\n    alphabetList.push(alphabet[i]);\n}\n\nlet letterNumber = 5;\n\nfor (var i = 0; i < alphabetList.length; i++) {\n    if (i + 1 === letterNumber) {\n        console.log(\"'\" + alphabetList[i] + \"' is letter number \" + letterNumber + \" in the alphabet\");\n    }\n}\n\n// Should output:\n// \"e\" is letter number 5 in the alphabet\n",
      "text/plain": [
       "<IPython.core.display.Javascript object>"
      ]
     },
     "metadata": {},
     "output_type": "display_data"
    }
   ],
   "source": [
    "%%js\n",
    "\n",
    "var alphabet = \"abcdefghijklmnopqrstuvwxyz\";\n",
    "var alphabetList = [];\n",
    "\n",
    "for (var i = 0; i < alphabet.length; i++) {\n",
    "    alphabetList.push(alphabet[i]);\n",
    "}\n",
    "\n",
    "let letterNumber = 5;\n",
    "\n",
    "for (var i = 0; i < alphabetList.length; i++) {\n",
    "    if (i + 1 === letterNumber) {\n",
    "        console.log(\"'\" + alphabetList[i] + \"' is letter number \" + letterNumber + \" in the alphabet\");\n",
    "    }\n",
    "}\n",
    "\n",
    "// Should output:\n",
    "// \"e\" is letter number 5 in the alphabet\n"
   ]
  },
  {
   "cell_type": "code",
   "execution_count": null,
   "metadata": {
    "vscode": {
     "languageId": "javascript"
    }
   },
   "outputs": [],
   "source": [
    "%%js\n",
    "\n",
    "let evens = [];\n",
    "let i = 0;\n",
    "\n",
    "while (i <= 10) {\n",
    "  evens.push(i);\n",
    "  i += 2;\n",
    "}\n",
    "\n",
    "console.log(evens);\n"
   ]
  },
  {
   "cell_type": "markdown",
   "metadata": {},
   "source": [
    "#### What I Changed\n",
    "\n",
    "- Corrected the loop condition to i < alphabetList.length.\n",
    "- Fixed the console.log statement to output the correct letter and its position."
   ]
  },
  {
   "cell_type": "markdown",
   "metadata": {},
   "source": [
    "print odd, not even numbers"
   ]
  },
  {
   "cell_type": "code",
   "execution_count": 6,
   "metadata": {
    "vscode": {
     "languageId": "javascript"
    }
   },
   "outputs": [
    {
     "data": {
      "application/javascript": "\nlet odds = [];\nlet i = 1;\n\nwhile (i < 10) {\n  odds.push(i);\n  i += 2;\n}\n\nconsole.log(odds);\n\n",
      "text/plain": [
       "<IPython.core.display.Javascript object>"
      ]
     },
     "metadata": {},
     "output_type": "display_data"
    }
   ],
   "source": [
    "%%js\n",
    "\n",
    "let odds = [];\n",
    "let i = 1;\n",
    "\n",
    "while (i < 10) {\n",
    "  odds.push(i);\n",
    "  i += 2;\n",
    "}\n",
    "\n",
    "console.log(odds);\n",
    "\n"
   ]
  },
  {
   "cell_type": "markdown",
   "metadata": {},
   "source": [
    " I changed the variable name from evens to odds.\n",
    "Started i from 1 and incremented it by 2 to get odd numbers.\n",
    "Adjusted the loop condition to ensure it only includes odd numbers less than 10.\n"
   ]
  },
  {
   "cell_type": "markdown",
   "metadata": {},
   "source": [
    "The intended outcome is printing a number between 1 and 100 once, if it is a multiple of 2 or 5 \n",
    "- What values are outputted incorrectly. Why?\n",
    "The loop for while (i < 100) should include numbers from 1 to 100, but it starts from 0 and excludes 100.\n",
    "Numbers that are multiples of both 2 and 5 are added twice to newNumbers, so there are duplicates.\n"
   ]
  },
  {
   "cell_type": "code",
   "execution_count": 7,
   "metadata": {
    "vscode": {
     "languageId": "javascript"
    }
   },
   "outputs": [
    {
     "data": {
      "application/javascript": "\nvar numbers = [];\nvar newNumbers = [];\nvar i = 1;\n\nwhile (i <= 100) {\n    numbers.push(i);\n    i += 1;\n}\n\nfor (var i of numbers) {\n    if (i % 5 === 0 || i % 2 === 0) {\n        newNumbers.push(i);\n    }\n}\n\nconsole.log(newNumbers);\n",
      "text/plain": [
       "<IPython.core.display.Javascript object>"
      ]
     },
     "metadata": {},
     "output_type": "display_data"
    }
   ],
   "source": [
    "%%js\n",
    "\n",
    "var numbers = [];\n",
    "var newNumbers = [];\n",
    "var i = 1;\n",
    "\n",
    "while (i <= 100) {\n",
    "    numbers.push(i);\n",
    "    i += 1;\n",
    "}\n",
    "\n",
    "for (var i of numbers) {\n",
    "    if (i % 5 === 0 || i % 2 === 0) {\n",
    "        newNumbers.push(i);\n",
    "    }\n",
    "}\n",
    "\n",
    "console.log(newNumbers);\n"
   ]
  },
  {
   "cell_type": "markdown",
   "metadata": {},
   "source": [
    "## Challenge\n",
    "\n",
    "This code segment is at a very early stage of implementation.\n",
    "- What are some ways to (user) error proof this code?\n",
    "- The code should be able to calculate the cost of the meal of the user\n",
    "\n",
    "Hint:\n",
    "- write a “single” test describing an expectation of the program of the program\n",
    "- test - input burger, expect output of burger price\n",
    "- run the test, which should fail because the program lacks that feature\n",
    "- write “just enough” code, the simplest possible, to make the test pass\n",
    "\n",
    "Then repeat this process until you get program working like you want it to work."
   ]
  },
  {
   "cell_type": "markdown",
   "metadata": {
    "vscode": {
     "languageId": "javascript"
    }
   },
   "source": [
    " <h1>Menu</h1>\n",
    "    <form id=\"orderForm\">\n",
    "        <label>\n",
    "            <input type=\"checkbox\" name=\"item\" value=\"burger\"> Burger ($3.99)\n",
    "        </label><br>\n",
    "        <label>\n",
    "            <input type=\"checkbox\" name=\"item\" value=\"fries\"> Fries ($1.99)\n",
    "        </label><br>\n",
    "        <label>\n",
    "            <input type=\"checkbox\" name=\"item\" value=\"drink\"> Drink ($0.99)\n",
    "        </label><br><br>\n",
    "        <input type=\"submit\" value=\"Calculate Total\">\n",
    "    </form>\n",
    " <h2>Total: $<span id=\"total\">0.00</span></h2>\n",
    "    <script>\n",
    "        var menu = {\"burger\": 3.99, \"fries\": 1.99, \"drink\": 0.99};\n",
    "        document.getElementById('orderForm').addEventListener('submit', function(event) {\n",
    "            event.preventDefault(); // Prevent form submission\n",
    "            var total = 0;\n",
    "            var selectedItems = document.querySelectorAll('input[name=\"item\"]:checked');\n",
    "            selectedItems.forEach(function(item) {\n",
    "                if (menu.hasOwnProperty(item.value)) {\n",
    "                    total += menu[item.value];\n",
    "                } else {\n",
    "                    console.log(item.value + \" is not on the menu.\");\n",
    "                }\n",
    "            });\n",
    "            document.getElementById('total').textContent = total.toFixed(2);\n",
    "        });\n",
    "    </script>\n",
    "\n",
    "</body>\n",
    "</html>\n"
   ]
  },
  {
   "cell_type": "markdown",
   "metadata": {},
   "source": [
    "## Hacks\n",
    "- Fix the errors in the first three segments in this notebook and say what you changed in the code cell under \"What I Changed\" (Challenge is optional)"
   ]
  }
 ],
 "metadata": {
  "kernelspec": {
   "display_name": "Python 3.10.6 64-bit",
   "language": "python",
   "name": "python3"
  },
  "language_info": {
   "codemirror_mode": {
    "name": "ipython",
    "version": 3
   },
   "file_extension": ".py",
   "mimetype": "text/x-python",
   "name": "python",
   "nbconvert_exporter": "python",
   "pygments_lexer": "ipython3",
   "version": "3.12.5"
  },
  "orig_nbformat": 4,
  "vscode": {
   "interpreter": {
    "hash": "aee8b7b246df8f9039afb4144a1f6fd8d2ca17a180786b69acc140d282b71a49"
   }
  }
 },
 "nbformat": 4,
 "nbformat_minor": 2
}
