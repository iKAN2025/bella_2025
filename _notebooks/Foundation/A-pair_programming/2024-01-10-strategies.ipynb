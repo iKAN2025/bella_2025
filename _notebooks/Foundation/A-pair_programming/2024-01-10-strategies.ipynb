{
 "cells": [
  {
   "cell_type": "markdown",
   "metadata": {},
   "source": [
    "---\n",
    "layout: post\n",
    "toc: true\n",
    "title: Array/Strategies\n",
    "description: AP CSA FRQ Array/Arraylist Strategies\n",
    "courses: { csa: {week: 1} }\n",
    "type: ccc\n",
    "categories: [AP CSA]\n",
    "permalink: /teamteach/array/strategies\n",
    "---"
   ]
  },
  {
   "cell_type": "markdown",
   "metadata": {},
   "source": [
    "# Array/Arraylist Review\n",
    "\n",
    "### Array\n",
    "- fixed sized\n",
    "- single *or* multidimensional\n",
    "\n",
    "![image](https://github.com/user-attachments/assets/b4cef2ae-4185-4f82-8df1-6545c06a9734)\n",
    "\n",
    "**How to Create Arrays:**\n",
    "1. Declare\n",
    "\n",
    "```java\n",
    "int[] arr1;\n",
    "int[] arr2;\n",
    "```\n",
    "2. Initialize\n",
    "\n",
    "```java\n",
    "//separating declare and initialize\n",
    "arr1 = new int[5];\n",
    "arr2 = new int[]{1,2,3};\n",
    "\n",
    "// declare and initialize at the same time\n",
    "int[] arr1 = new int[5];\n",
    "int[] arr2 = {1,2,3}; // an array literal\n",
    "```\n",
    "\n",
    "3. Access using `[]`\n",
    "\n",
    "```java\n",
    "arr2[0] // accesses the first element in the array\n",
    "```\n"
   ]
  },
  {
   "cell_type": "markdown",
   "metadata": {},
   "source": [
    "### Arraylist\n",
    "- resizable\n",
    "- uses *methods* to access and modify elements\n",
    "- typically stores objects\n",
    "\n",
    "**How to Create Arraylists:**\n",
    "1. Declare and Initialize\n",
    "\n",
    "```java\n",
    "ArrayList<String> al = new ArrayList<String>();\n",
    "```\n",
    "\n",
    "2. Basic Operations\n",
    "\n",
    "Insertion using `add()`\n",
    "```java\n",
    "al.add(\"apple\");\n",
    "al.add(\"orange\");\n",
    "al.add(\"banana\");\n",
    "```\n",
    "Access using `get()`\n",
    "```java\n",
    "al.get(0); \n",
    "```\n",
    "Deletion using `remove()`\n",
    "```java\n",
    "al.remove(\"orange\");\n",
    "```\n",
    "Update using `set()`\n",
    "```java\n",
    "al.set(0, \"kiwi\");\n",
    "```"
   ]
  },
  {
   "cell_type": "markdown",
   "metadata": {},
   "source": [
    "## Warmup\n",
    "Write a java program to sort an Arraylist"
   ]
  },
  {
   "cell_type": "code",
   "execution_count": 2,
   "metadata": {},
   "outputs": [
    {
     "name": "stdout",
     "output_type": "stream",
     "text": [
      "Before sorting: [Banana, Apple, Grapes, Orange, Mango]\n",
      "After sorting (Ascending): [Apple, Banana, Grapes, Mango, Orange]\n",
      "After sorting (Descending): [Orange, Mango, Grapes, Banana, Apple]\n"
     ]
    }
   ],
   "source": [
    "// Using arrayList.sort function\n",
    "import java.util.ArrayList;\n",
    "import java.util.Collections;\n",
    "\n",
    "public class ArrayListSorter {\n",
    "    public static void main(String[] args) {\n",
    "        // Create an ArrayList\n",
    "        ArrayList<String> items = new ArrayList<>();\n",
    "        \n",
    "        // Add elements to the ArrayList\n",
    "        items.add(\"Banana\");\n",
    "        items.add(\"Apple\");\n",
    "        items.add(\"Grapes\");\n",
    "        items.add(\"Orange\");\n",
    "        items.add(\"Mango\");\n",
    "\n",
    "        // Print the ArrayList before sorting\n",
    "        System.out.println(\"Before sorting: \" + items);\n",
    "\n",
    "        // Sort the ArrayList in ascending order\n",
    "        Collections.sort(items);\n",
    "\n",
    "        // Print the ArrayList after sorting\n",
    "        System.out.println(\"After sorting (Ascending): \" + items);\n",
    "\n",
    "        // Sort the ArrayList in descending order\n",
    "        Collections.sort(items, Collections.reverseOrder());\n",
    "\n",
    "        // Print the ArrayList after sorting in descending order\n",
    "        System.out.println(\"After sorting (Descending): \" + items);\n",
    "    }\n",
    "}\n",
    "\n",
    "ArrayListSorter.main(null)"
   ]
  },
  {
   "cell_type": "code",
   "execution_count": 4,
   "metadata": {},
   "outputs": [
    {
     "name": "stdout",
     "output_type": "stream",
     "text": [
      "Before sorting: [Banana, Apple, Grapes, Orange, Mango]\n",
      "After sorting (Ascending): [Apple, Banana, Grapes, Mango, Orange]\n",
      "After sorting (Descending): [Orange, Mango, Grapes, Banana, Apple]\n"
     ]
    }
   ],
   "source": [
    "// With Bubble Sort Algorithm\n",
    "import java.util.ArrayList;\n",
    "\n",
    "public class ArrayListSort {\n",
    "    public static void main(String[] args) {\n",
    "        // Create an ArrayList of integers\n",
    "        ArrayList<Integer> numbers = new ArrayList<>();\n",
    "        \n",
    "        // Add integers to the ArrayList\n",
    "        numbers.add(34);\n",
    "        numbers.add(12);\n",
    "        numbers.add(45);\n",
    "        numbers.add(23);\n",
    "        numbers.add(8);\n",
    "\n",
    "        // Print the ArrayList before sorting\n",
    "        System.out.println(\"Before sorting: \" + numbers);\n",
    "\n",
    "        // Sort the ArrayList using a for loop (Bubble Sort)\n",
    "        for (int i = 0; i < numbers.size() - 1; i++) {\n",
    "            for (int j = 0; j < numbers.size() - 1 - i; j++) {\n",
    "                if (numbers.get(j) > numbers.get(j + 1)) {\n",
    "                    // Swap numbers[j] and numbers[j + 1]\n",
    "                    int temp = numbers.get(j);\n",
    "                    numbers.set(j, numbers.get(j + 1));\n",
    "                    numbers.set(j + 1, temp);\n",
    "                }\n",
    "            }\n",
    "        }\n",
    "\n",
    "        // Print the ArrayList after sorting\n",
    "        System.out.println(\"After sorting (Ascending): \" + numbers);\n",
    "    }\n",
    "}\n",
    "\n",
    "ArrayListSorter.main(null)"
   ]
  },
  {
   "cell_type": "markdown",
   "metadata": {
    "vscode": {
     "languageId": "plaintext"
    }
   },
   "source": [
    "***\n",
    "***"
   ]
  },
  {
   "cell_type": "markdown",
   "metadata": {
    "vscode": {
     "languageId": "plaintext"
    }
   },
   "source": [
    "# Checklist to Maximize Points ✅\n",
    "**Before Writing Code**\n",
    "- Understand the *method signature* (what the methods do, the return types, access modifier)\n",
    "- Paying attention to *input type* (e.g. array vs ArrayList)\n",
    "\n",
    "**Writing Code**\n",
    "- Use loops carefully (consider *bounds*)\n",
    "- Check for null/empty cases\n",
    "\n",
    "**Before Submitting Code**\n",
    "- Correct return type\n",
    "- Check whether syntax is used for array/ArrayList"
   ]
  },
  {
   "cell_type": "markdown",
   "metadata": {},
   "source": [
    "***\n",
    "***"
   ]
  },
  {
   "cell_type": "markdown",
   "metadata": {},
   "source": [
    "# Common Mistakes to Avoid ❌\n",
    "\n",
    "### `[]` vs `get` Confusion (penalty)\n",
    "[]: used to access elements in **array**\n",
    "\n",
    "get: used to access elements in **ArrayList**"
   ]
  },
  {
   "cell_type": "code",
   "execution_count": null,
   "metadata": {},
   "outputs": [],
   "source": [
    "int[] arr = {1,2,3};\n",
    "System.out.println(arr[0]); \n",
    "\n",
    "ArrayList<String> al = new ArrayList<String>();\n",
    "al.add(\"sprite\");\n",
    "System.out.println(al.get(0));"
   ]
  },
  {
   "cell_type": "markdown",
   "metadata": {},
   "source": [
    "### `.length` vs `.size()` Confusion (no penalty)\n",
    "\n",
    ".length: property for length of a **array**\n",
    ".size(): method for length of an **Arraylist**"
   ]
  },
  {
   "cell_type": "code",
   "execution_count": 5,
   "metadata": {},
   "outputs": [
    {
     "name": "stdout",
     "output_type": "stream",
     "text": [
      "3\n",
      "2\n"
     ]
    }
   ],
   "source": [
    "String[] colors;\n",
    "colors = new String[]{\"yellow\", \"purple\", \"blue\"};\n",
    "System.out.println(colors.length);\n",
    "\n",
    "ArrayList<Integer> nums = new ArrayList<Integer>();\n",
    "nums.add(12);\n",
    "nums.add(10); \n",
    "System.out.println(nums.size());"
   ]
  },
  {
   "cell_type": "markdown",
   "metadata": {},
   "source": [
    "### Traversing Arrays/ArrayLists \n",
    "- Ensure bounds are correct (applying the right comparison/logic)\n",
    "- Account for dynamic resizing of ArrayLists for `.add()` and `.remove()`"
   ]
  },
  {
   "cell_type": "code",
   "execution_count": 9,
   "metadata": {},
   "outputs": [
    {
     "name": "stdout",
     "output_type": "stream",
     "text": [
      "Array List in Reverse:\n",
      "20\n",
      "35\n",
      "25\n",
      "30\n"
     ]
    }
   ],
   "source": [
    "import java.util.ArrayList;\n",
    "\n",
    "public class ReverseIteration {\n",
    "    public static void main(String[] args) {\n",
    "        // Create and populate an ArrayList\n",
    "        ArrayList<Integer> numbers = new ArrayList<>();\n",
    "        numbers.add(30);\n",
    "        numbers.add(25);\n",
    "        numbers.add(35);\n",
    "        numbers.add(20);\n",
    "        \n",
    "        // Print elements in reverse order\n",
    "        System.out.println(\"Array List in Reverse:\");\n",
    "        for (int i = numbers.size() - 1; i >= 0; i--) {\n",
    "            System.out.println(numbers.get(i));\n",
    "        }\n",
    "    }\n",
    "}\n",
    "ReverseIteration.main(null)\n"
   ]
  },
  {
   "cell_type": "markdown",
   "metadata": {},
   "source": [
    "***\n",
    "***"
   ]
  },
  {
   "cell_type": "markdown",
   "metadata": {},
   "source": [
    "# Scoring Criteria 📝\n",
    "<img width=\"557\" alt=\"image\" src=\"https://github.com/user-attachments/assets/e82542c0-aba5-4009-b5c2-ea741c85c4fa\" />\n"
   ]
  }
 ],
 "metadata": {
  "kernelspec": {
   "display_name": "java (IJava/j!)",
   "language": "java",
   "name": "jbang-ijava"
  },
  "language_info": {
   "codemirror_mode": "java",
   "file_extension": ".jshell",
   "mimetype": "text/x-java-source",
   "name": "java",
   "pygments_lexer": "java",
   "version": "22.0.2"
  }
 },
 "nbformat": 4,
 "nbformat_minor": 2
}
