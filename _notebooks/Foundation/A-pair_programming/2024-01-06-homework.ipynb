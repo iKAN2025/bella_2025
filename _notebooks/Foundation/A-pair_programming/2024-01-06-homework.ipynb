{
 "cells": [
  {
   "cell_type": "markdown",
   "metadata": {},
   "source": [
    "---\n",
    "layout: post\n",
    "toc: true\n",
    "title: Array/Homework\n",
    "description: AP CSA FRQ Array/Arraylist Homework\n",
    "courses: { csa: {week: 1} }\n",
    "type: ccc\n",
    "categories: [AP CSA]\n",
    "\n",
    "permalink: /teamteach/array/homework\n",
    "---"
   ]
  },
  {
   "cell_type": "markdown",
   "metadata": {},
   "source": [
    "# Homework\n",
    "\n",
    "Write a program that randomly fills in 0s and 1s into an n-by-n matrix, prints the matrix, and finds the rows and columns with the most 1s. (Hint: Use two ArrayLists to store the row and column indices with the most 1s.) \n",
    "\n",
    "Here is a sample run of the program, printed in the console: \n",
    "```\n",
    "Enter the array size n: 4\n",
    "The random array is\n",
    "0011\n",
    "0011\n",
    "1101\n",
    "1010\n",
    "The largest row index: 2\n",
    "The largest column index: 2, 3 \n",
    "```"
   ]
  },
  {
   "cell_type": "code",
   "execution_count": 2,
   "metadata": {
    "vscode": {
     "languageId": "java"
    }
   },
   "outputs": [
    {
     "name": "stdout",
     "output_type": "stream",
     "text": [
      "Enter the array size n: The random array is:\n",
      "01011\n",
      "01011\n",
      "11001\n",
      "11001\n",
      "10011\n",
      "The largest row index: 0 1 2 3 4 \n",
      "The largest column index: 4 "
     ]
    }
   ],
   "source": [
    "import java.util.ArrayList;\n",
    "import java.util.Scanner;\n",
    "\n",
    "public class RandomMatrix {\n",
    "    public static void main(String[] args) {\n",
    "        Scanner scanner = new Scanner(System.in);\n",
    "\n",
    "        // Prompt the user for the size of the matrix\n",
    "        System.out.print(\"Enter the array size n: \");\n",
    "        int n = scanner.nextInt();\n",
    "\n",
    "        // Create the matrix and fill it with random 0s and 1s\n",
    "        int[][] matrix = new int[n][n];\n",
    "        for (int i = 0; i < n; i++) {\n",
    "            for (int j = 0; j < n; j++) {\n",
    "                matrix[i][j] = (int) (Math.random() * 2); // Randomly generate 0 or 1\n",
    "            }\n",
    "        }\n",
    "\n",
    "        // Print the matrix\n",
    "        System.out.println(\"The random array is:\");\n",
    "        for (int i = 0; i < n; i++) {\n",
    "            for (int j = 0; j < n; j++) {\n",
    "                System.out.print(matrix[i][j]);\n",
    "            }\n",
    "            System.out.println();\n",
    "        }\n",
    "\n",
    "        // Find the rows with the most 1s\n",
    "        ArrayList<Integer> maxRowIndices = new ArrayList<>();\n",
    "        int maxRowCount = 0;\n",
    "        for (int i = 0; i < n; i++) {\n",
    "            int rowCount = 0;\n",
    "            for (int j = 0; j < n; j++) {\n",
    "                rowCount += matrix[i][j];\n",
    "            }\n",
    "            if (rowCount > maxRowCount) {\n",
    "                maxRowCount = rowCount;\n",
    "                maxRowIndices.clear();\n",
    "                maxRowIndices.add(i);\n",
    "            } else if (rowCount == maxRowCount) {\n",
    "                maxRowIndices.add(i);\n",
    "            }\n",
    "        }\n",
    "\n",
    "        // Find the columns with the most 1s\n",
    "        ArrayList<Integer> maxColIndices = new ArrayList<>();\n",
    "        int maxColCount = 0;\n",
    "        for (int j = 0; j < n; j++) {\n",
    "            int colCount = 0;\n",
    "            for (int i = 0; i < n; i++) {\n",
    "                colCount += matrix[i][j];\n",
    "            }\n",
    "            if (colCount > maxColCount) {\n",
    "                maxColCount = colCount;\n",
    "                maxColIndices.clear();\n",
    "                maxColIndices.add(j);\n",
    "            } else if (colCount == maxColCount) {\n",
    "                maxColIndices.add(j);\n",
    "            }\n",
    "        }\n",
    "\n",
    "        // Print the results\n",
    "        System.out.print(\"The largest row index: \");\n",
    "        for (int index : maxRowIndices) {\n",
    "            System.out.print(index + \" \");\n",
    "        }\n",
    "        System.out.println();\n",
    "\n",
    "        System.out.print(\"The largest column index: \");\n",
    "        for (int index : maxColIndices) {\n",
    "            System.out.print(index + \" \");\n",
    "        }\n",
    "    }\n",
    "}\n",
    "\n",
    "RandomMatrix.main(null)"
   ]
  }
 ],
 "metadata": {
  "kernelspec": {
   "display_name": "java (IJava/j!)",
   "language": "java",
   "name": "jbang-ijava"
  },
  "language_info": {
   "codemirror_mode": "java",
   "file_extension": ".jshell",
   "mimetype": "text/x-java-source",
   "name": "Java",
   "pygments_lexer": "java",
   "version": "22.0.2"
  }
 },
 "nbformat": 4,
 "nbformat_minor": 2
}
