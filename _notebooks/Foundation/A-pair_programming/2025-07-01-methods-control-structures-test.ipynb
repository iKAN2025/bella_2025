{
 "cells": [
  {
   "cell_type": "markdown",
   "metadata": {
    "vscode": {
     "languageId": "raw"
    }
   },
   "source": [
    "---\n",
    "layout: Methods/Controls Lesson, HW, and Takeaways\n",
    "title: Feeder Class Simulation\n",
    "permalink: /methods_per3/tester\n",
    "---"
   ]
  },
  {
   "cell_type": "markdown",
   "metadata": {},
   "source": [
    "# AP CSA FRQ Tester: Feeder Class Simulation (2024)\n",
    "\n",
    "This notebook allows you to test your implementation of the `simulateOneDay` and `simulateManyDays` methods for the **Feeder** class.\n",
    "\n",
    "The test harness will:\n",
    "1. Append your code to a predefined test structure.\n",
    "2. Run several test cases.\n",
    "3. Display the results of the test cases.\n",
    "\n",
    "---\n",
    "\n",
    "## Instructions\n",
    "\n",
    "1. Add the code as per the FRQ instructions in the //YOUR CODE HERE\n",
    "2. Run both code cells to test your code for errors against provided test cases\n",
    "---\n",
    "\n"
   ]
  },
  {
   "cell_type": "code",
   "execution_count": 6,
   "metadata": {},
   "outputs": [],
   "source": [
    "import java.util.Random;\n",
    "\n",
    "public class Feeder {\n",
    "    private int currentFood; // Amount of food in grams in the feeder\n",
    "\n",
    "    // Constructor to initialize the food\n",
    "    public Feeder(int initialFood) {\n",
    "        currentFood = initialFood;\n",
    "    }\n",
    "\n",
    "    /**\n",
    "     * Simulates one day with numBirds birds or possibly a bear at the feeder.\n",
    "     * Precondition: numBirds > 0\n",
    "     */\n",
    "    public void simulateOneDay(int numBirds) {\n",
    "        Random rand = new Random();\n",
    "        int random = rand.nextInt(100) + 1; // Generate a random number between 1 and 100\n",
    "\n",
    "        if (random <= 95) { // 95% chance birds eat\n",
    "            int foodPerBird = rand.nextInt(41) + 10; // Random food per bird (10-50 grams)\n",
    "            int birdFood = numBirds * foodPerBird; // Total food consumed by birds\n",
    "\n",
    "            if (currentFood >= birdFood) {\n",
    "                currentFood -= birdFood;\n",
    "            } else {\n",
    "                currentFood = 0; // All food consumed\n",
    "            }\n",
    "        } else {\n",
    "            // 5% chance a bear eats everything\n",
    "            currentFood = 0;\n",
    "        }\n",
    "    }\n",
    "\n",
    "    /**\n",
    "     * Simulates numDays of activity at the feeder with numBirds birds.\n",
    "     * Returns the number of days on which food was found in the feeder.\n",
    "     * Precondition: numBirds > 0, numDays > 0\n",
    "     */\n",
    "    public int simulateManyDays(int numBirds, int numDays) {\n",
    "        int daysWithFoodRemaining = 0;\n",
    "\n",
    "        for (int day = 0; day < numDays; day++) {\n",
    "            simulateOneDay(numBirds);\n",
    "\n",
    "            // Check if there's food left at the end of the day\n",
    "            if (currentFood > 0) {\n",
    "                daysWithFoodRemaining++;\n",
    "            }\n",
    "        }\n",
    "\n",
    "        return daysWithFoodRemaining;\n",
    "    }\n",
    "\n",
    "    // Getter to check the current food level (optional, for testing/debugging)\n",
    "    public int getCurrentFood() {\n",
    "        return currentFood;\n",
    "    }\n",
    "}\n"
   ]
  },
  {
   "cell_type": "code",
   "execution_count": 7,
   "metadata": {},
   "outputs": [
    {
     "name": "stdout",
     "output_type": "stream",
     "text": [
      "Test Case 1: Current food after one day: 2190\n",
      "Test Case 2: Days with food: 0, Remaining food: 2190\n",
      "Test Case 3: Days with food: 0, Remaining food: 2190\n",
      "\n"
     ]
    }
   ],
   "source": [
    "public class FeederTest {\n",
    "    public static void main(String[] args) {\n",
    "        StringBuilder results = new StringBuilder();\n",
    "\n",
    "        // Test Case 1\n",
    "        Feeder feeder1 = new Feeder(2400);\n",
    "        feeder1.simulateOneDay(10);\n",
    "        results.append(\"Test Case 1: Current food after one day: \").append(feeder1.getCurrentFood()).append(\"\\n\");\n",
    "\n",
    "        // Test Case 2\n",
    "        Feeder feeder2 = new Feeder(250);\n",
    "        int daysWithFood2 = feeder2.simulateManyDays(10, 5);\n",
    "        results.append(\"Test Case 2: Days with food: \").append(daysWithFood2)\n",
    "               .append(\", Remaining food: \").append(feeder1.getCurrentFood()).append(\"\\n\");\n",
    "\n",
    "        // Test Case 3\n",
    "        Feeder feeder3 = new Feeder(0);\n",
    "        int daysWithFood3 = feeder3.simulateManyDays(5, 10);\n",
    "        results.append(\"Test Case 3: Days with food: \").append(daysWithFood3)\n",
    "               .append(\", Remaining food: \").append(feeder1.getCurrentFood()).append(\"\\n\");\n",
    "\n",
    "        // Print Results\n",
    "        System.out.println(results.toString());\n",
    "    }\n",
    "}\n",
    "\n",
    "//Run the Test Harness\n",
    "FeederTest.main(null);\n"
   ]
  }
 ],
 "metadata": {
  "kernelspec": {
   "display_name": "java (IJava/j!)",
   "language": "java",
   "name": "jbang-ijava"
  },
  "language_info": {
   "codemirror_mode": "java",
   "file_extension": ".jshell",
   "mimetype": "text/x-java-source",
   "name": "java",
   "pygments_lexer": "java",
   "version": "22.0.2"
  }
 },
 "nbformat": 4,
 "nbformat_minor": 2
}
