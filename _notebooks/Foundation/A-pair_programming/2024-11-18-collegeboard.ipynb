{
 "cells": [
  {
   "cell_type": "markdown",
   "metadata": {},
   "source": [
    "---\n",
    "toc: false\n",
    "comments: true\n",
    "layout: post\n",
    "title: Collegeboard MCQ/FRQ Review\n",
    "permalink: /collegeboardmcq\n",
    "toc: true\n",
    "comments: true\n",
    "permalink: /DTMcollectible\n",
    "courses: { csa: {week: 8} }\n",
    "---"
   ]
  },
  {
   "cell_type": "markdown",
   "metadata": {},
   "source": [
    "![launch]({{site.baseurl}}/images/chill.png)"
   ]
  },
  {
   "cell_type": "markdown",
   "metadata": {
    "vscode": {
     "languageId": "plaintext"
    }
   },
   "source": [
    "I got 100% on the mcq!  My knowledge of java has significantly improved from first tri to second tri, which made the questions considerably easier. Here are some questions that I found pretty interesting (Collegeboard asks a lot of trick questions). I found this a lot more easier than the last MC! \n",
    "\n",
    "\n",
    "\n"
   ]
  },
  {
   "cell_type": "markdown",
   "metadata": {},
   "source": [
    "\n",
    "![launch]({{site.baseurl}}/images/26.png)\n",
    "26) <details>\n",
    "This one stumped me for a little until I realized that java has a pass by reference variable, so it doesn't change the original variable, but sends a copy to the function. Therefore, the original variables stay the same and print out original variables!\n",
    "</details>\n",
    "\n",
    "![launch]({{site.baseurl}}/images/31.png) \n",
    "31)<details>\n",
    "This tic-tac-toe one took me a whopping 2 minutes and 50 seconds, which isn't ideal. Figuring out the first loop was pretty easy-the whole table is populated with Os. The next for loop starts val at 0 and increments by 1 until val is 4, when val is 5 the loop terminates. When val is 1, row is assigned 1 and col is assigned 0. The boolean condition in the while loop is true, so board[1][0] is assigned “X”. Then col is incremented to 1 and row is decremented to 0 and board[0][1] is assigned “X”. Then col is incremented to 2 and row is decremented to -1 and the while loop terminates. When val is 3, row is assigned 3 and col is assigned 0. The boolean condition in the while loop is true, so board[3][0] is assigned “X”. Then col is incremented to 1 and row is decremented to 2 and board[2][1] is assigned “X”. Then col is incremented to 2 and row is decremented to 1 and board[1][2] is assigned “X”. Then col is incremented to 3 and row is decremented to 0 and board[0][3] is assigned “X”. Finally, col is incremented to 4 and row is decremented to -1 and the while loop terminates. When val is 4, nothing changes about board.\n",
    "</details>\n",
    "\n",
    "![launch]({{site.baseurl}}/images/122.png) \n",
    "3)<details>\n",
    "I hate nested for loops, so this one took me a really long time (4 minutes). For each iteration, the number of times the inner loop iterates is dependent on the value of outer. When outer is 1, the inner loop iterates from 1 to 6, incrementing by 1 each time, and prints all even numbers followed by a space (2 4 6). When outer is 2, the inner loop iterates from 2 to 6 and prints all even numbers followed by a space (2 4 6). When outer is 3, the inner loop iterates from 3 to 6 and prints all even numbers followed by a space (4 6). When outer is 4, the inner loop iterates from 4 to 6 and prints all even numbers followed by a space (4 6). When outer is 5, the inner loop iterates from 5 to 6 and prints 6 followed by a space. When outer is 6, the inner loop iterates one time and prints 6 followed by a space.\n"
   ]
  },
  {
   "cell_type": "markdown",
   "metadata": {},
   "source": [
    "Overall, I did pretty well. I could do better on time, but I was about right (it took me 1 hour 30 minutes to complete 39 questions while the MCQ takes 1 hour 30 minutes.) Practice makes perfect, so hopefully I can get quicker with it"
   ]
  }
 ],
 "metadata": {
  "language_info": {
   "name": "python"
  }
 },
 "nbformat": 4,
 "nbformat_minor": 2
}
