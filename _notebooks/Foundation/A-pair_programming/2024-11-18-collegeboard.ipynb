{
 "cells": [
  {
   "cell_type": "markdown",
   "metadata": {},
   "source": [
    "---\n",
    "toc: false\n",
    "comments: true\n",
    "layout: post\n",
    "title: Collegeboard MCQ Review\n",
    "permalink: /collegeboardmcq\n",
    "toc: true\n",
    "comments: true\n",
    "---"
   ]
  },
  {
   "cell_type": "markdown",
   "metadata": {},
   "source": [
    "![launch]({{site.baseurl}}/images/mc.png)"
   ]
  },
  {
   "cell_type": "markdown",
   "metadata": {
    "vscode": {
     "languageId": "plaintext"
    }
   },
   "source": [
    "Some of the questions were easy to understand and quick to answer, which I found suprising because I didn't know Java that well! I had some notes on here about the questions I found really easy that I picked at random :)"
   ]
  },
  {
   "cell_type": "markdown",
   "metadata": {},
   "source": [
    "1)<details>\n",
    "![launch]({{site.baseurl}}/images/knew.png)\n",
    "This one was pretty easy, de morgan's law! I knew the !! would cancel each other out, leaving a!=b. The opposite of  < is >=, which is what the ! is reffering too\n",
    "</details>\n",
    "\n",
    "2) <details>\n",
    "![launch]({{site.baseurl}}/images/knew1.png) Adding 4 and starting from 0 would be the same as priting every multiple from 0 to 100. The other ones had weird issues, like k=1! That's definelty not multiples of 4! Some of them skipped multiples (multiplying by 4 after each increment! That's exponential!)\n",
    "</details>\n",
    "\n",
    "\n",
    "3)<details>\n",
    "![launch]({{site.baseurl}}/images/knew1.png) This is a more complex iterative process. Essentially j starts from 0 and k is the length of the list-1 (we need to get the index right lol). Then, as j < k, the jth element is replaced with the k'th elemnt. So the first time, the first and last are swapped, Then as k is subtracted by one and j is added by oone, the second and second-to-last is swapped, and so on and so forth until the list is REVERSED. "
   ]
  },
  {
   "cell_type": "markdown",
   "metadata": {},
   "source": [
    "For some of them, I needed ChatGPT's help :(! Especially for the fibonacci sequence ones. Here are the ones I had a lot of trouble with and why:\n",
    "\n",
    "\n",
    "I didn't understand the error that would happen with this algorithm until I asked ChatGPT, so I had trouble with these two questions:\n",
    "![launch]({{site.baseurl}}/images/dg1.png)\n",
    "![launch]({{site.baseurl}}/images/dg2.png)\n",
    "\n",
    "<details> ChatGPT ANSWER\n",
    "\n",
    "Method Analysis:\n",
    "The method seqSearchRec(int target) starts by calling the helper method with the full length of the data array:\n",
    "\n",
    "java\n",
    "Copy code\n",
    "return seqSearchRecHelper(target, data.length - 1);\n",
    "The helper method seqSearchRecHelper(int target, int last) works recursively:\n",
    "\n",
    "It checks if data[last] == target and returns the index last if true.\n",
    "Otherwise, it calls itself with last - 1.\n",
    "The method lacks a base case to stop recursion when last becomes less than 0. If the target value isn't found, the recursive calls will continue until a stack overflow error occurs.\n",
    "\n",
    "</details>\n",
    "\n",
    "\n",
    "\n",
    "This one threw me off a little because when I iterated over the list, I kept getting the same answer. Even though it was the right answer, I think I do need to draw out these things a little better rather than just staring at the screen to iterate this list. (I always draw it out for numbers, so this might have been an exception!)\n",
    "\n",
    "\n",
    "![launch]({{site.baseurl}}/images/dg3.png)\n",
    "\n",
    "This one was pretty difficult as I found 2d arrays pretty challenging. I probably need more practice on this. I had to ask Chat Gpt for this one.\n",
    "![launch]({{site.baseurl}}/images/dg4.png)\n",
    "\n",
    "<details> Chat Gpt's Answer:\n",
    "Step-by-Step Execution:\n",
    "Iteration 1:\n",
    "value = 1\n",
    "newArray[row][col] = newArray[0][0] = 1\n",
    "row++ → row = 1.\n",
    "Iteration 2:\n",
    "value = 2\n",
    "newArray[row][col] = newArray[1][0] = 2\n",
    "row++ → row = 2.\n",
    "Iteration 3:\n",
    "value = 3\n",
    "newArray[row][col] = newArray[2][0] = 3\n",
    "row++ → row = 3.\n",
    "Since row % 3 == 0, set row = 0 and col++ → col = 1.\n",
    "Iteration 4:\n",
    "value = 4\n",
    "newArray[row][col] = newArray[0][1] = 4\n",
    "row++ → row = 1.\n",
    "Iteration 5:\n",
    "value = 5\n",
    "newArray[row][col] = newArray[1][1] = 5\n",
    "row++ → row = 2.\n",
    "Iteration 6:\n",
    "value = 6\n",
    "newArray[row][col] = newArray[2][1] = 6\n",
    "row++ → row = 3.\n",
    "Since row % 3 == 0, set row = 0 and col++ → col = 2.\n",
    "Iteration 7:\n",
    "value = 7\n",
    "newArray[row][col] = newArray[0][2] = 7\n",
    "row++ → row = 1.\n",
    "Iteration 8:\n",
    "value = 8\n",
    "newArray[row][col] = newArray[1][2] = 8\n",
    "row++ → row = 2.\n",
    "Iteration 9:\n",
    "value = 9\n",
    "newArray[row][col] = newArray[2][2] = 9\n",
    "row++ → row = 3.\n",
    "Since row % 3 == 0, set row = 0 and col++ → col = 3 (unused).\n",
    "</details>\n",
    "\n",
    "\n",
    "\n",
    "\n",
    "\n",
    "I didn't really understand the pattern with this one-looks like it was fibonacci :), according to ChatGpt.\n",
    "![launch]({{site.baseurl}}/images/dg5.png)\n",
    "\n",
    "<details> CHAT GPT ANSWER Key Observations:\n",
    "Guaranteed n > 2 at Point B:\n",
    "\n",
    "If n is always greater than 2, the while loop (while (n < 2)) will never execute, because the condition n < 2 will always evaluate to false.\n",
    "The program will skip the while loop entirely.\n",
    "Behavior of the Method:\n",
    "\n",
    "The values of x and y are initialized as 1 and 1, respectively.\n",
    "Since the while loop doesn't execute, the method directly returns x.\n",
    "Output:\n",
    "\n",
    "The method will always return 1, regardless of the value of n (as long as n > 2).\n",
    "Correct Behavior:\n",
    "If this is not the intended behavior, and the method is meant to compute something meaningful (e.g., Fibonacci numbers or another sequence), the loop condition should be revised.\n",
    "\n",
    "Would you like to modify the method for a different intended functionality? If so, please clarify the expected result for mystery(n) </details>"
   ]
  }
 ],
 "metadata": {
  "language_info": {
   "name": "python"
  }
 },
 "nbformat": 4,
 "nbformat_minor": 2
}
