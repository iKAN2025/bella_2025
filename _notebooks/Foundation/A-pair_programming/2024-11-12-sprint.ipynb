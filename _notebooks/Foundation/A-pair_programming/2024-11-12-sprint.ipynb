{
 "cells": [
  {
   "cell_type": "markdown",
   "metadata": {},
   "source": [
    "---\n",
    "toc: false\n",
    "comments: true\n",
    "layout: post\n",
    "title: Sprint Review Ticket\n",
    "permalink: /sprint\n",
    "comments: true\n",
    "---\n"
   ]
  },
  {
   "cell_type": "markdown",
   "metadata": {},
   "source": [
    "## Sprint 1\n",
    "In sprint 1, I customized my home page, experimented with code, and familiarized myself with tools.  I made a shell script to automate tools setup for my computer and made an alias to create a virtual environment. I also worked more with sass to change my theme. I also added a cool about me page :).  I learned how to work with my pair, Trystan, and got to learn a little about my team.\n",
    "![launch]({{site.baseurl}}/images/aboutme.png)\n",
    "![launch]({{site.baseurl}}/images/7.png)\n",
    "![launch]({{site.baseurl}}/images/8.png)\n",
    "![launch]({{site.baseurl}}/images/9.png)\n",
    "## Sprint 2\n",
    "In Sprint 2, I learned the fundamentals of Java with programming and created mini-projects in Java to supplement my learning. I had fun working with graphics and learning a language. I also taught inheritance,  one of the most complex lessons we had in out team teaches. I also created a [homework blog]({{site.baseurl}}/csa/Homework) and an issue to capture feedback. Here, I got to know my team a little more.\n",
    "![launch]({{site.baseurl}}/images/10.png)\n",
    "![launch]({{site.baseurl}}/images/11.png)\n",
    "## Sprint 3\n",
    "In Sprint 3, I learned how to work with an entirely new framework: Spring :). Since I knew my team a little more, it was easier to set roles. We ran in to a lot of issues, but we still got started on recreating features like login, profile, and sign up flask. \n",
    "If you want more information on Sprint 3, here's a [link]({{site.baseurl}}/nightatmuseum) with pictures and a [link](https://ikan2025.github.io/CSATri1Group/ideation) to our ideation page. \n"
   ]
  }
 ],
 "metadata": {
  "language_info": {
   "name": "python"
  }
 },
 "nbformat": 4,
 "nbformat_minor": 2
}
