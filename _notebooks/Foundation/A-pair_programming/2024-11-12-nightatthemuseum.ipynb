{
 "cells": [
  {
   "cell_type": "markdown",
   "metadata": {},
   "source": [
    "---\n",
    "toc: false\n",
    "comments: true\n",
    "layout: post\n",
    "title: Night at the Museum Blog\n",
    "permalink: /nightatmuseum\n",
    "toc: true\n",
    "comments: true\n",
    "---\n"
   ]
  },
  {
   "cell_type": "markdown",
   "metadata": {},
   "source": [
    "\n",
    "Night at the Museum was a great experience for me. I was given the opportunity to explain my profile, the tools I used, and my new learning. Along with meeting with parents and students to show our project, I was able to discuss with others and learn about their projects. "
   ]
  },
  {
   "cell_type": "markdown",
   "metadata": {},
   "source": [
    "## Feedback\n",
    "We got a lot of great feedback on our project. For example, people said our website was well designed, but there could be more functions added in profile/backend."
   ]
  },
  {
   "cell_type": "markdown",
   "metadata": {},
   "source": [
    "\n",
    "\n",
    "\n",
    "\n",
    "\n",
    "\n",
    "\n",
    "\n"
   ]
  },
  {
   "cell_type": "markdown",
   "metadata": {},
   "source": [
    "### Glows:\n",
    "- Good interaction with audience members and excellent presentation skills.  \n",
    "- The website is very well designed and easy to operate.  \n",
    "- Features like saving email, name, and password when logging in again work effectively.  \n",
    "- Secure login page implemented well using Java and Python.  \n",
    "- The system allows users to log in and retrieve saved data successfully.  \n",
    "- The project was presented well by the team members (Trystan, Dylan, Bella, and Nikhil).  \n",
    "- Overall experience is user-friendly and enjoyable.\n",
    "\n",
    "### Grows:\n",
    "- Include the database (`.db`) file in `.gitignore` to avoid security risks.  \n",
    "- Improve user interaction by clearing the email field after signing out.  \n",
    "- Autosave feature is buggy; consider removing or improving it.  \n",
    "- Update the CSS and front end to make it more visually appealing and align with the Nighthawk Pages style.  \n",
    "- Allow users to edit their own accounts securely (e.g., logged-in users can edit their profiles and no one else’s).  \n",
    "- Enable functionality for users to delete their accounts or change their passwords in the database.  \n",
    "- Enhance the efficiency of the update page for a smoother user experience.\n",
    "\n",
    "\n"
   ]
  },
  {
   "cell_type": "markdown",
   "metadata": {},
   "source": [
    "#  Reviewing Other Projects\n",
    "\n",
    "I reviewed projects from CSP, and CSSE. \n",
    "\n",
    "\n",
    "- For CSP, I noticed that the frontend had a lot of good design, but a lot of groups didn't start on the backend.\n",
    "- For CSSE, I noticed that the games students built could have more interaction within the game itself, but the backgrounds were aesthetically appealing.\n",
    "Here are some projects that are reviewed:\n",
    "\n"
   ]
  },
  {
   "cell_type": "markdown",
   "metadata": {},
   "source": []
  },
  {
   "cell_type": "markdown",
   "metadata": {},
   "source": [
    "# Other Projects (3D Animation, Art)\n",
    "\n",
    "- Here is a slideshow of projects outside CSA/CSP than I liked. \n",
    "\n",
    "\n"
   ]
  }
 ],
 "metadata": {
  "language_info": {
   "name": "python"
  }
 },
 "nbformat": 4,
 "nbformat_minor": 2
}
