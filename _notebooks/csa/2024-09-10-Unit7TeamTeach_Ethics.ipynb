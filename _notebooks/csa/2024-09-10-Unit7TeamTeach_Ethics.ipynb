{
 "cells": [
  {
   "cell_type": "markdown",
   "metadata": {
    "vscode": {
     "languageId": "java"
    }
   },
   "source": [
    "---\n",
    "layout: post\n",
    "toc: true\n",
    "title: Unit 7 ArrayList P3 \n",
    "description: A Unit of documents that overview Array Lists in Java\n",
    "authors: Drishya, Arnav, Tanuj, Jason\n",
    "categories: [AP CSA]\n",
    "# courses: {'csa': {'week': 6}}\n",
    "type: ccc\n",
    "permalink: /csa/unit7-p3/unit7-5\n",
    "---"
   ]
  },
  {
   "cell_type": "markdown",
   "metadata": {},
   "source": [
    "# 7.7:Ethical issues around data collection"
   ]
  },
  {
   "cell_type": "markdown",
   "metadata": {},
   "source": [
    "- **Privacy Risks**: Personal data can be vulnerable to breaches or misuse when stored in systems. Programmers need to protect it.\n",
    "  \n",
    "- **Protection Methods**:\n",
    "  - **Delete Data**: Remove personal info when it’s no longer needed.\n",
    "  - **Minimize Data**: Only collect essential information.\n",
    "  - **Anonymize Data**: Use methods like `hashCode()` in Java to hide real info.\n",
    "  - **Encrypt**: Secure data so it can’t be easily accessed even if stolen.\n",
    "\n",
    "The main goal? Keep personal data safe with smart coding practices."
   ]
  },
  {
   "cell_type": "markdown",
   "metadata": {},
   "source": [
    "# 7th mini Hack:\n",
    "What can be used in place of the blank to ensure the users data is cleared?"
   ]
  },
  {
   "cell_type": "code",
   "execution_count": 2,
   "metadata": {},
   "outputs": [
    {
     "name": "stdout",
     "output_type": "stream",
     "text": [
      "User data cleared. Size of userData: 0\n"
     ]
    }
   ],
   "source": [
    "import java.util.ArrayList;\n",
    "\n",
    "\n",
    "ArrayList<String> userData = new ArrayList<>();\n",
    "userData.add(\"John Doe\");\n",
    "userData.add(\"john@example.com\");\n",
    "\n",
    "        \n",
    "userData.clear(); // Removes all entries\n",
    "userData = new ArrayList<>(); // Resets userData to a new empty ArrayList\n",
    "\n",
    "// Now userData is empty and any reference to the old data is cleared\n",
    "System.out.println(\"User data cleared. Size of userData: \" + userData.size()); // Output: 0\n"
   ]
  }
 ],
 "metadata": {
  "kernelspec": {
   "display_name": "java (IJava/j!)",
   "language": "java",
   "name": "jbang-ijava"
  },
  "language_info": {
   "codemirror_mode": "java",
   "file_extension": ".jshell",
   "mimetype": "text/x-java-source",
   "name": "java",
   "pygments_lexer": "java",
   "version": "22.0.2"
  }
 },
 "nbformat": 4,
 "nbformat_minor": 2
}
