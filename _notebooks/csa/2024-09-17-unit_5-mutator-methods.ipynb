{
 "cells": [
  {
   "cell_type": "raw",
   "metadata": {
    "vscode": {
     "languageId": "raw"
    }
   },
   "source": [
    "---\n",
    "layout: post\n",
    "title: Mutator Methods\n",
    "description: Team Teach\n",
    "toc: True\n",
    "permalink: /csa/unit5/5.5/\n",
    "type: ccc\n",
    "courses: {csa: {week: 13 }}\n",
    "\n",
    "---"
   ]
  },
  {
   "cell_type": "markdown",
   "metadata": {},
   "source": [
    "<img src=\"https://github.com/user-attachments/assets/c53b4b5d-d58c-4e06-b6d1-09df8b7ee78a\" width=\"500px\" height=\"auto\">"
   ]
  },
  {
   "cell_type": "markdown",
   "metadata": {},
   "source": [
    "## Definition\n",
    "\n",
    "A mutator method modifies an object's state my changing the value of its fields or attributes.\n",
    "\n",
    "Example:\n",
    "\n",
    "Say you have an object called \"Minion.\" If I have a field like \"name,\" a mutator method lets me change its value.\n",
    "\n",
    "## Okay but why???\n",
    "\n",
    "Mutator methods are part of Java's philsophy of \"encapsulation.\"\n",
    "\n",
    "That's nerd-speak for \"keeping things seperate\". It's the idea of enclosing data and methods as a unit. You want to restrict direct access to data, only accessing them through a PROPERLY defined way."
   ]
  },
  {
   "cell_type": "markdown",
   "metadata": {},
   "source": [
    "## Mutator method types:\n",
    "\n",
    "Accessors: can you guess what this does? That's right, it lets you *access* data. These can be called \"get\" methods or \"getters.\""
   ]
  },
  {
   "cell_type": "code",
   "execution_count": null,
   "metadata": {},
   "outputs": [],
   "source": [
    "public class Minion\n",
    "{\n",
    "    private String name;\n",
    "\n",
    "    // notice how the getter method starts with \"get\" (pretty creative, I know)\n",
    "    // these methods have to be names like this where you have get<whatever variable>\n",
    "    public String getName() {\n",
    "        // because \"name\" is a string, return type is String\n",
    "        return name;\n",
    "    }\n",
    "}"
   ]
  },
  {
   "cell_type": "markdown",
   "metadata": {},
   "source": [
    "### Your turn!\n",
    "\n",
    "- Make your own class with your own getter method"
   ]
  },
  {
   "cell_type": "markdown",
   "metadata": {},
   "source": [
    "Mutators: wait a minute, a \"mutator\" is a type of mutator method??? Yeah, Java is kinda wacky like that. Try not to think about it much. Anyways... these methods let you *mutate* data (basically change it). They can be called \"set\" methods or \"setters.\""
   ]
  },
  {
   "cell_type": "code",
   "execution_count": null,
   "metadata": {},
   "outputs": [],
   "source": [
    "public class Minion\n",
    "{\n",
    "    private String name;\n",
    "\n",
    "    // same naming scheme as a getter but with set instead\n",
    "    public void setName(String n) {\n",
    "        name = n;\n",
    "    }\n",
    "}"
   ]
  },
  {
   "cell_type": "markdown",
   "metadata": {},
   "source": [
    "### Your turn!\n",
    "\n",
    "- Make your own class with your own **setter** method"
   ]
  },
  {
   "cell_type": "markdown",
   "metadata": {},
   "source": [
    "## EXAMPLE TIME WOOOOOOO!!!!!!! 🤓🤓🤓"
   ]
  },
  {
   "cell_type": "code",
   "execution_count": null,
   "metadata": {},
   "outputs": [
    {
     "name": "stdout",
     "output_type": "stream",
     "text": [
      "Kevin\n",
      "Bob\n"
     ]
    }
   ],
   "source": [
    "public class Minion {\n",
    "    // the minion's name\n",
    "    private String name;\n",
    "\n",
    "    // Constructor to set the name\n",
    "    public Minion(String n) {\n",
    "        name = n;\n",
    "    }\n",
    "\n",
    "    // getter\n",
    "    public String getName() {\n",
    "        return name;\n",
    "    }\n",
    "\n",
    "    // setter\n",
    "    public void setName(String n) {\n",
    "        name = n;\n",
    "    }\n",
    "}\n",
    "\n",
    "// Create a Minion object and interact with it\n",
    "Minion myMinion = new Minion(\"Kevin\");\n",
    "\n",
    "System.out.println(myMinion.getName()); // get the name\n",
    "\n",
    "myMinion.setName(\"Bob\");\n",
    "System.out.println(myMinion.getName()); // wow look, the name changed!!\n"
   ]
  },
  {
   "cell_type": "markdown",
   "metadata": {},
   "source": [
    "### Your turn!\n",
    "\n",
    "Make your own class with:\n",
    "- A constructor\n",
    "- A getter\n",
    "- A setter\n",
    "\n",
    "Create an object and interact with it! Make sure you use both your setter and getter methods at least once."
   ]
  },
  {
   "cell_type": "code",
   "execution_count": null,
   "metadata": {},
   "outputs": [],
   "source": [
    "\n",
    "\n",
    "public class Person {\n",
    "\t// In Java we can mark  certain methods and/or fields as either \"private\" or \"public\"\n",
    "\t// private: no one else can DIRECTlY access/change your members or fields\n",
    "\t// public: anyone can DIRECTLY acess/change your methods/fields\n",
    "\tprivate int age;\n",
    "\tprivate String eye_color;\n",
    "\tprivate int height;\n",
    "\tprivate String first_name;\n",
    "\tprivate String last_name;\n",
    "\t\n",
    "\t// different names to name your variables\n",
    "\t// snake_case\n",
    "\t// camelCase\n",
    "\t// EyeColor\n",
    "\t\n",
    "\t// constructors with 0 argument is called default construco\n",
    "\tpublic Person() {\n",
    "\t\tthis.age = 10;\n",
    "\t\tthis.eye_color = \"Blue\";\n",
    "\t\tthis.height = 0;\n",
    "\t\tthis.first_name = \"Jane\";\n",
    "\t\tthis.last_name = \"Doe\";\n",
    "\t\t\n",
    "\t}\n",
    "\t\n",
    "\t// constructors with  argument is called parametrized/non default\n",
    "\tpublic Person(int age, String eye_color, int height, String first_name, String last_name) {\n",
    "\t\tthis.age = age;\n",
    "\t\tthis.eye_color = eye_color;\n",
    "\t\tthis.height = height;\n",
    "\t\tthis.first_name = first_name;\n",
    "\t\tthis.last_name = last_name;\n",
    "\t\t\n",
    "\t}\n",
    "\t\n",
    "\t\n",
    "\t\n",
    "\t//Getters and Setters\n",
    "\t\n",
    "\t// Getters\n",
    "\tpublic int get_age() {\n",
    "\t\treturn this.age; // this.age\n",
    "\t}\n",
    "\tpublic String get_eye_color() {\n",
    "\t\treturn this.eye_color; \n",
    "\t}\n",
    "\tpublic int get_height() {\n",
    "\t\treturn this.height; \n",
    "\t}\n",
    "\tpublic String get_first_name() {\n",
    "\t\treturn this.first_name; \n",
    "\t}\n",
    "\tpublic String get_last_name() {\n",
    "\t\treturn this.last_name; \n",
    "\t}\n",
    "\t\n",
    "\t// Setters\n",
    "\t// void\n",
    "\t\n",
    "\tpublic void set_age(int a) {\n",
    "\t\tthis.age = a;\n",
    "\t\t\n",
    "\t}\n",
    "\tpublic void set_eye_color(String a) {\n",
    "\t\tthis.eye_color = a;\n",
    "\t\t\n",
    "\t}\n",
    "\tpublic void set_height(int a) {\n",
    "\t\tthis.height = a;\n",
    "\t\t\n",
    "\t}\n",
    "\tpublic void set_first_name(String a) {\n",
    "\t\tthis.first_name = a;\n",
    "\t\t\n",
    "\t}\n",
    "\tpublic void set_last_name(String a) {\n",
    "\t\tthis.last_name = a;\n",
    "\t\t\n",
    "\t}\n",
    "\t\n",
    "\t\n",
    "\t\n",
    "\t\n",
    "\t// tostring: print out object itself\n",
    "\t\n",
    "\tpublic String toString() {\n",
    "\t    //   fomrat \n",
    "\t\t//  Name     : (first_name} {last_name}\n",
    "\t\t//  Age      : (age}\n",
    "\t\t//  Eye color: {eye_color}\n",
    "\t\t//  height   : {height}\n",
    "\t\t\n",
    "\t\tString name_format = \"Name            : \"+this.first_name + \" \"+ this.last_name + \"\\n\";\n",
    "\t\tString age_format  = \"Age             : \" + this.age+ \"\\n\";\n",
    "\t\tString eye_format  = \"Eye color       : \" + this.eye_color + \"\\n\";\n",
    "\t\tString height_format=\"Height          : \" + this.height;\n",
    "\t\treturn name_format + age_format + eye_format + height_format;\n",
    "\t}\n",
    "\t\n",
    "\t\n",
    "}\n",
    "\n",
    "\n",
    "\n"
   ]
  },
  {
   "cell_type": "markdown",
   "metadata": {},
   "source": [
    "## When making mutator methods...\n",
    "- A setter method has a `void` return type since it doesn't return anything\n",
    "  - Naming convention: `set<variable name>` like `setName`\n",
    "- A getter method's return type is of what it is returning\n",
    "  - Naming convention: `get<variable name>` like `getName`\n",
    "- Mutator methods in general change variable in a safe way\n",
    "  - They have to be public if you want to access these variable outside of the class (which is the purpose they serve)\n",
    "- Parameter type matches the variable you're modifying\n",
    "  - `public void setName(String n)`\n",
    "  - You are modifying a `String` called `n`\n",
    "  - Parameter type matches!"
   ]
  }
 ],
 "metadata": {
  "kernelspec": {
   "display_name": "Python 3",
   "language": "python",
   "name": "python3"
  },
  "language_info": {
   "codemirror_mode": {
    "name": "ipython",
    "version": 3
   },
   "file_extension": ".py",
   "mimetype": "text/x-python",
   "name": "python",
   "nbconvert_exporter": "python",
   "pygments_lexer": "ipython3",
   "version": "3.11.3"
  }
 },
 "nbformat": 4,
 "nbformat_minor": 2
}
