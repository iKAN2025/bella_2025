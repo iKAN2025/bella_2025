{
 "cells": [
  {
   "cell_type": "markdown",
   "metadata": {},
   "source": [
    "---\n",
    "layout: post\n",
    "toc: true\n",
    "title: Unit 7 ArrayList P3 \n",
    "description: A Unit of documents that overview Array Lists in Java\n",
    "authors: Drishya, Arnav, Tanuj, Jason\n",
    "categories: [AP CSA]\n",
    "# courses: {'csa': {'week': 6}}\n",
    "type: ccc\n",
    "permalink: /csa/unit7-p3/unit7-6\n",
    "---"
   ]
  },
  {
   "cell_type": "markdown",
   "metadata": {
    "vscode": {
     "languageId": "plaintext"
    }
   },
   "source": [
    "## **ArrayList Coding Activity**\n",
    "\n",
    "### **Objective:**\n",
    "Students will create, manipulate, and sort an `ArrayList` of integers.\n",
    "\n",
    "### **Activity Outline:**\n",
    "\n",
    "1. **Create an ArrayList:**\n",
    "   - **Task:** Create an `ArrayList` of integers and add 5 elements of your choice.\n",
    "   - **Hint:** Use the `ArrayList` class and the `.add()` method to add elements.\n",
    "\n",
    "2. **Modify an Element:**\n",
    "   - **Task:** Change the second element (index 1) of the `ArrayList` to a new value (e.g., 100).\n",
    "   - **Hint:** The `.set()` method allows you to update an element at a specific index.\n",
    "\n",
    "3. **Remove an Element:**\n",
    "   - **Task:** Remove the third element (index 2) from the `ArrayList`.\n",
    "   - **Hint:** Use the `.remove()` method to delete an element by its index.\n",
    "\n",
    "4. **Search for an Element:**\n",
    "   - **Task:** Check if a specific number (e.g., 30) is in the `ArrayList` and print a message based on whether it is found or not.\n",
    "   - **Hint:** The `.contains()` method can be used to check for the presence of an element.\n",
    "\n",
    "5. **Loop Through the ArrayList:**\n",
    "   - **Task:** Use a `for` loop to print each element of the `ArrayList`.\n",
    "   - **Hint:** You can use a traditional `for` loop or an enhanced `for` loop (`for-each`) to iterate through the elements.\n",
    "\n",
    "6. **Sort the ArrayList:**\n",
    "   - **Task:** Sort the `ArrayList` in ascending order.\n",
    "   - **Hint:** Use `Collections.sort()` to sort the `ArrayList`.\n",
    "\n",
    "7. **Print the Sorted ArrayList:**\n",
    "   - **Task:** Print the sorted `ArrayList` to see the updated order of the elements.\n",
    "   - **Hint:** Use `System.out.println()` to print the sorted list.\n"
   ]
  },
  {
   "cell_type": "code",
   "execution_count": 2,
   "metadata": {
    "vscode": {
     "languageId": "java"
    }
   },
   "outputs": [
    {
     "name": "stdout",
     "output_type": "stream",
     "text": [
      "ArrayList after creation: [10, 20, 30, 40, 50]\n",
      "ArrayList after modifying the second element: [10, 100, 30, 40, 50]\n",
      "ArrayList after removing the third element: [10, 100, 40, 50]\n",
      "30 is not found in the list.\n",
      "Elements in the ArrayList:\n",
      "10\n",
      "100\n",
      "40\n",
      "50\n",
      "ArrayList after sorting: [10, 40, 50, 100]\n",
      "Sorted ArrayList:\n",
      "[10, 40, 50, 100]\n"
     ]
    }
   ],
   "source": [
    "import java.util.ArrayList;\n",
    "import java.util.Collections;\n",
    "\n",
    "public class ArrayListActivity {\n",
    "    public static void main(String[] args) {\n",
    "        // Step 1: Create an ArrayList\n",
    "        ArrayList<Integer> numbers = new ArrayList<>();\n",
    "        numbers.add(10);\n",
    "        numbers.add(20);\n",
    "        numbers.add(30);\n",
    "        numbers.add(40);\n",
    "        numbers.add(50);\n",
    "        \n",
    "        // Print the ArrayList after creation\n",
    "        System.out.println(\"ArrayList after creation: \" + numbers);\n",
    "\n",
    "        // Step 2: Modify an Element\n",
    "        numbers.set(1, 100); // Now the list is [10, 100, 30, 40, 50]\n",
    "        System.out.println(\"ArrayList after modifying the second element: \" + numbers);\n",
    "\n",
    "        // Step 3: Remove an Element\n",
    "        numbers.remove(2); // Now the list is [10, 100, 40, 50]\n",
    "        System.out.println(\"ArrayList after removing the third element: \" + numbers);\n",
    "\n",
    "        // Step 4: Search for an Element\n",
    "        int searchNumber = 30;\n",
    "        if (numbers.contains(searchNumber)) {\n",
    "            System.out.println(searchNumber + \" is found in the list.\");\n",
    "        } else {\n",
    "            System.out.println(searchNumber + \" is not found in the list.\");\n",
    "        }\n",
    "\n",
    "        // Step 5: Loop Through the ArrayList\n",
    "        System.out.println(\"Elements in the ArrayList:\");\n",
    "        for (int number : numbers) {\n",
    "            System.out.println(number);\n",
    "        }\n",
    "\n",
    "        // Step 6: Sort the ArrayList\n",
    "        Collections.sort(numbers);\n",
    "        System.out.println(\"ArrayList after sorting: \" + numbers); // Print the list after sorting\n",
    "\n",
    "        // Step 7: Print the Sorted ArrayList\n",
    "        System.out.println(\"Sorted ArrayList:\");\n",
    "        System.out.println(numbers);\n",
    "    }\n",
    "}\n",
    "ArrayListActivity.main(null)"
   ]
  }
 ],
 "metadata": {
  "kernelspec": {
   "display_name": "java (IJava/j!)",
   "language": "java",
   "name": "jbang-ijava"
  },
  "language_info": {
   "codemirror_mode": "java",
   "file_extension": ".jshell",
   "mimetype": "text/x-java-source",
   "name": "Java",
   "pygments_lexer": "java",
   "version": "22.0.2"
  }
 },
 "nbformat": 4,
 "nbformat_minor": 2
}
