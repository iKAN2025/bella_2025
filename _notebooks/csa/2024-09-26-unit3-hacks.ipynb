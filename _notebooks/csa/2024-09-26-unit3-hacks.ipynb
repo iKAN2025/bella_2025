{
 "cells": [
  {
   "cell_type": "markdown",
   "metadata": {},
   "source": [
    "---\n",
    "layout: post\n",
    "title: Unit 3  Lesson Hacks\n",
    "type: hacks\n",
    "toc: true\n",
    "permalink: /csa/unit6_p3/6.4/\n",
    "---"
   ]
  },
  {
   "cell_type": "markdown",
   "metadata": {},
   "source": [
    "Answers: \n",
    "true\n",
    "true\n",
    "true\n",
    "false\n",
    "false\n",
    "true"
   ]
  },
  {
   "cell_type": "code",
   "execution_count": 4,
   "metadata": {},
   "outputs": [
    {
     "name": "stdout",
     "output_type": "stream",
     "text": [
      "true\n"
     ]
    },
    {
     "name": "stdout",
     "output_type": "stream",
     "text": [
      "true\n",
      "true\n",
      "false\n",
      "false\n",
      "true\n"
     ]
    }
   ],
   "source": [
    "int myAge = 15;\n",
    "int otherAge = 45;\n",
    "\n",
    "System.out.println(myAge<16);\n",
    "System.out.println(myAge<=15);\n",
    "System.out.println(myAge==15);\n",
    "System.out.println(myAge>otherAge);\n",
    "System.out.println(myAge>=otherAge);\n",
    "System.out.println(myAge!=otherAge);"
   ]
  },
  {
   "cell_type": "code",
   "execution_count": 5,
   "metadata": {},
   "outputs": [
    {
     "data": {
      "text/plain": [
       "true"
      ]
     },
     "execution_count": 5,
     "metadata": {},
     "output_type": "execute_result"
    }
   ],
   "source": [
    "String myName = \"Alisha\";\n",
    "\n",
    "myName != \"Anika\";\n",
    "myName == \"Alisha\" ;"
   ]
  },
  {
   "cell_type": "code",
   "execution_count": 6,
   "metadata": {},
   "outputs": [
    {
     "name": "stdout",
     "output_type": "stream",
     "text": [
      "True\n"
     ]
    }
   ],
   "source": [
    "String myName = \"Alisha\";\n",
    "boolean areNamesEqual = myName.equals(\"Alisha\");  \n",
    "\n",
    "if (areNamesEqual) {\n",
    "    System.out.println(\"True\");\n",
    "} else {\n",
    "    System.out.println(\"False\");\n",
    "}\n"
   ]
  },
  {
   "cell_type": "code",
   "execution_count": 8,
   "metadata": {},
   "outputs": [
    {
     "name": "stdout",
     "output_type": "stream",
     "text": [
      "Current age: 15\n",
      "You are too young to start learning to drive.\n",
      "On your next birthday, you will be 16 years old!\n",
      "\n",
      "Current age: 14\n",
      "You are too young to start learning to drive.\n",
      "On your next birthday, you will be 15 years old!\n",
      "\n",
      "Current age: 10\n",
      "You are too young to start learning to drive.\n",
      "On your next birthday, you will be 11 years old!\n"
     ]
    }
   ],
   "source": [
    "public class AgeTest {\n",
    "    public static void main(String[] args) {\n",
    "        // Test Case 1: Age less than 16\n",
    "        int myAge = 15;\n",
    "        System.out.println(\"Current age: \" + myAge);\n",
    "        \n",
    "        if (myAge >= 16) {\n",
    "            System.out.println(\"You can start learning to drive!\");\n",
    "        } else {\n",
    "            System.out.println(\"You are too young to start learning to drive.\");\n",
    "        }\n",
    "        System.out.println(\"On your next birthday, you will be \" + (myAge + 1) + \" years old!\");\n",
    "        \n",
    "        // Test Case 2: Age is 14\n",
    "        myAge = 14;\n",
    "        System.out.println(\"\\nCurrent age: \" + myAge);\n",
    "        \n",
    "        if (myAge >= 16) {\n",
    "            System.out.println(\"You can start learning to drive!\");\n",
    "        } else {\n",
    "            System.out.println(\"You are too young to start learning to drive.\");\n",
    "        }\n",
    "        System.out.println(\"On your next birthday, you will be \" + (myAge + 1) + \" years old!\");\n",
    "\n",
    "        // Test Case 3: Age is 10\n",
    "        myAge = 10;\n",
    "        System.out.println(\"\\nCurrent age: \" + myAge);\n",
    "        \n",
    "        if (myAge >= 16) {\n",
    "            System.out.println(\"You can start learning to drive!\");\n",
    "        } else {\n",
    "            System.out.println(\"You are too young to start learning to drive.\");\n",
    "        }\n",
    "        System.out.println(\"On your next birthday, you will be \" + (myAge + 1) + \" years old!\");\n",
    "    }\n",
    "}\n",
    "\n",
    "AgeTest.main(null)"
   ]
  },
  {
   "cell_type": "markdown",
   "metadata": {},
   "source": [
    "For the precondition for num, Mortensen told us that this question was irrelevant.  So we will ignore it in the hacks :!"
   ]
  },
  {
   "cell_type": "markdown",
   "metadata": {},
   "source": [
    "It would print out you are not old enough  for a license yet."
   ]
  },
  {
   "cell_type": "code",
   "execution_count": 9,
   "metadata": {},
   "outputs": [
    {
     "name": "stdout",
     "output_type": "stream",
     "text": [
      "The number is positive.\n"
     ]
    }
   ],
   "source": [
    "public class NumberCheck {\n",
    "    public static void main(String[] args) {\n",
    "        int number = 7;  // You can change this value to test other cases\n",
    "\n",
    "        // If-else statement to check if the number is positive, negative, or zero\n",
    "        if (number > 0) {\n",
    "            System.out.println(\"The number is positive.\");\n",
    "        } else if (number < 0) {\n",
    "            System.out.println(\"The number is negative.\");\n",
    "        } else {\n",
    "            System.out.println(\"The number is zero.\");\n",
    "        }\n",
    "    }\n",
    "}\n",
    "\n",
    "NumberCheck.main(null)"
   ]
  },
  {
   "cell_type": "code",
   "execution_count": 12,
   "metadata": {},
   "outputs": [],
   "source": [
    "public class PositiveNegativeCheck {\n",
    "    public static void main(String[] args) {\n",
    "        int number = -5;  // You can change this value to test other cases\n",
    "\n",
    "        // If-else if statement to check if the number is positive or negative\n",
    "        if (number > 0) {\n",
    "            System.out.println(\"The number is positive.\");\n",
    "        } else if (number < 0) {\n",
    "            System.out.println(\"The number is negative.\");\n",
    "        }\n",
    "    }\n",
    "}\n"
   ]
  },
  {
   "cell_type": "markdown",
   "metadata": {},
   "source": [
    "# If I was 19 what would it print out?\n",
    " Current Age: 19. You can register to vote, you are old enough for a license to drive. \n",
    "# If I was 13 what would it print out?\n",
    "Current Age: 13"
   ]
  },
  {
   "cell_type": "code",
   "execution_count": 13,
   "metadata": {},
   "outputs": [],
   "source": [
    "public class PassFailCheck {\n",
    "    public static void main(String[] args) {\n",
    "        int score = 72;  // You can change this value to test other cases\n",
    "\n",
    "        // If-else if statement to check if the student passed or failed\n",
    "        if (score >= 60) {\n",
    "            System.out.println(\"You passed the exam!\");\n",
    "        } else if (score < 60) {\n",
    "            System.out.println(\"You failed the exam.\");\n",
    "        }\n",
    "    }\n",
    "}\n"
   ]
  },
  {
   "cell_type": "markdown",
   "metadata": {},
   "source": [
    "Purpose of the Algorithm\n",
    "The algorithm checkMembershipEligibility() is designed to evaluate whether a user qualifies for different types of memberships and discounts based on three factors: age, annual income, and student status. It collects input from the user, checks eligibility conditions for each membership or discount, and then outputs the appropriate results.\n",
    "\n",
    "Explanation of Each if Condition\n",
    "Basic Membership Eligibility (if (age >= 18 && income >= 20000)):\n",
    "\n",
    "This checks if the user is at least 18 years old and has an annual income of $20,000 or more.\n",
    "If both conditions are met, the user qualifies for a \"Basic Membership.\"\n",
    "Premium Membership Eligibility (if (age >= 25 && income >= 50000)):\n",
    "\n",
    "This checks if the user is at least 25 years old and has an annual income of $50,000 or more.\n",
    "If both conditions are satisfied, the user qualifies for a \"Premium Membership.\"\n",
    "Student Discount Eligibility (if (isStudent)):\n",
    "\n",
    "This checks if the user is a student (determined by whether they answered \"yes\" to the prompt).\n",
    "If the user is a student, they are eligible for a \"Student Discount.\"\n",
    "Senior Discount Eligibility (if (age >= 65)):\n",
    "\n",
    "This checks if the user is at least 65 years old.\n",
    "If so, the user qualifies for a \"Senior Discount.\"\n",
    "Default Case (if (results.length === 0)):\n",
    "\n",
    "If none of the above conditions are met, meaning the user doesn’t qualify for any memberships or discounts, this outputs a default message: \"You do not qualify for any memberships or discounts.\"\n",
    "Output for Input:\n",
    "Age: 20\n",
    "Annual Income: 1500\n",
    "Student Status: Yes\n",
    "Step-by-Step Analysis:\n",
    "\n",
    "Basic Membership:\n",
    "\n",
    "The user is 20 years old, which satisfies the age condition (age >= 18), but their income is $1,500, which is less than the required $20,000. Therefore, they do not qualify for Basic Membership.\n",
    "Premium Membership:\n",
    "\n",
    "The user is 20 years old, which does not satisfy the age condition (age >= 25), and their income is also less than $50,000. So, they do not qualify for Premium Membership.\n",
    "Student Discount:\n",
    "\n",
    "The user is a student (isStudent === true), so they are eligible for a Student Discount.\n",
    "Senior Discount:\n",
    "\n",
    "The user is 20 years old, which is less than 65, so they do not qualify for a Senior Discount.\n",
    "Default Case:\n",
    "\n",
    "Since the user qualifies for a Student Discount, the algorithm will not execute the default message.\n",
    "You are eligible for a Student Discount."
   ]
  },
  {
   "cell_type": "code",
   "execution_count": 17,
   "metadata": {},
   "outputs": [
    {
     "name": "stdout",
     "output_type": "stream",
     "text": [
      "You qualify for a student discount!\n"
     ]
    }
   ],
   "source": [
    "public class Main {\n",
    "    public static void main(String[] args) {\n",
    "        int age = 30;  // Change this value for testing\n",
    "        boolean isStudent = true;  // Change this value for testing\n",
    "\n",
    "        // Check if the person qualifies for a student discount\n",
    "        if (age < 25 || isStudent) {\n",
    "            System.out.println(\"You qualify for a student discount!\");\n",
    "        }\n",
    "\n",
    "        // Check if the person qualifies for a senior discount\n",
    "        else if (age >= 60) {\n",
    "            System.out.println(\"You qualify for a senior discount!\");\n",
    "        }\n",
    "\n",
    "    }\n",
    "    }\n",
    "Main.main(null)"
   ]
  },
  {
   "cell_type": "markdown",
   "metadata": {},
   "source": [
    "This will print true because:\n",
    "\n",
    "The color of myHouse and sharonsHouse is the same (\"green\").\n",
    "The size of both houses is the same (150).\n",
    "Answer:\n",
    "Yes, Sharon's house and your house would be considered the same (in terms of their attributes: color and size). The output of the comparison will be true.\n",
    "\n",
    "Note:\n",
    "Although they are different objects (different memory references), the content of these objects is identical, which is why the equals() method returns true.\n",
    "\n",
    "\n",
    "\n",
    "\n",
    "\n",
    "\n"
   ]
  },
  {
   "cell_type": "markdown",
   "metadata": {},
   "source": [
    "1. What is !(x == 0) equivalent to?\n",
    "The expression !(x == 0) is the negation of the condition x == 0. Negating this means that x is not equal to 0. So, the equivalent expression is:\n",
    "\n",
    "java\n",
    "Copy code\n",
    "x != 0\n",
    "In words, \"x is not equal to 0.\"\n",
    "\n",
    "2. Apply De Morgan’s Law to find an equivalent expression. Negate the expression (x < -5 || x > 10)\n",
    "Original expression:\n",
    "java\n",
    "Copy code\n",
    "x < -5 || x > 10\n",
    "Applying De Morgan’s Law:\n",
    "De Morgan’s Law states that:\n",
    "\n",
    "The negation of (A || B) is equivalent to (!A && !B)\n",
    "The negation of (A && B) is equivalent to (!A || !B)\n",
    "We are negating the entire expression (x < -5 || x > 10):\n",
    "\n",
    "Negate the whole expression: !(x < -5 || x > 10)\n",
    "\n",
    "According to De Morgan’s Law, we rewrite it as:\n",
    "\n",
    "java\n",
    "Copy code\n",
    "!(x < -5) && !(x > 10)\n",
    "Simplifying the negations:\n",
    "\n",
    "!(x < -5) becomes x >= -5\n",
    "!(x > 10) becomes x <= 10\n",
    "The final equivalent expression is:\n",
    "\n",
    "java\n",
    "Copy code\n",
    "x >= -5 && x <= 10\n",
    "Interpretation:\n",
    "The negation of x < -5 || x > 10 means that x must be between -5 and 10, inclusive.\n",
    "\n"
   ]
  },
  {
   "cell_type": "code",
   "execution_count": 19,
   "metadata": {},
   "outputs": [
    {
     "name": "stdout",
     "output_type": "stream",
     "text": [
      "Enter your age: Enter your annual income: Are you a student? (yes/no): What is your employment status? (full-time, part-time, unemployed): You do not qualify for any memberships or discounts.\n"
     ]
    }
   ],
   "source": [
    "import java.util.Scanner;\n",
    "\n",
    "public class PrimeClubMembership {\n",
    "    public static void main(String[] args) {\n",
    "        // Create a scanner object to get user input\n",
    "        Scanner scanner = new Scanner(System.in);\n",
    "        \n",
    "        // Get user input for age, income, student status, and employment type\n",
    "        System.out.print(\"Enter your age: \");\n",
    "        int age = scanner.nextInt();\n",
    "        \n",
    "        System.out.print(\"Enter your annual income: \");\n",
    "        double income = scanner.nextDouble();\n",
    "        \n",
    "        System.out.print(\"Are you a student? (yes/no): \");\n",
    "        boolean isStudent = scanner.next().equalsIgnoreCase(\"yes\");\n",
    "        \n",
    "        System.out.print(\"What is your employment status? (full-time, part-time, unemployed): \");\n",
    "        String employmentType = scanner.next().toLowerCase();\n",
    "        \n",
    "        // Variable to store which memberships the user qualifies for\n",
    "        String membership = \"\";\n",
    "\n",
    "        // Premium Membership (highest priority)\n",
    "        if (age >= 25 && income >= 50000) {\n",
    "            membership = \"Premium Membership\";\n",
    "        } \n",
    "        // Senior Discount (second priority)\n",
    "        else if (age >= 65) {\n",
    "            membership = \"Senior Discount\";\n",
    "        } \n",
    "        // Student Discount (third priority)\n",
    "        else if (isStudent) {\n",
    "            membership = \"Student Discount\";\n",
    "        } \n",
    "        // Basic Membership (lowest priority)\n",
    "        else if (age >= 18 && income >= 20000) {\n",
    "            membership = \"Basic Membership\";\n",
    "        } \n",
    "        // If no membership criteria are met\n",
    "        else {\n",
    "            membership = \"You do not qualify for any memberships or discounts.\";\n",
    "        }\n",
    "\n",
    "        // Print out the membership recommendation\n",
    "        System.out.println(membership);\n",
    "        \n",
    "        // Close the scanner\n",
    "        scanner.close();\n",
    "    }\n",
    "}\n",
    "\n",
    "PrimeClubMembership.main(null)"
   ]
  },
  {
   "cell_type": "markdown",
   "metadata": {},
   "source": [
    "### Truth Table\n",
    "\n",
    "| p   | q   | p \\\\|\\\\| q & p  | (p \\\\|\\\\| q) \\\\|\\\\| p | p & (p \\\\|\\\\| q) |\n",
    "| --- | --- | ------------- | ----------------- | -------------- |\n",
    "| T   | T   | T             | T                 | T              |\n",
    "| T   | F   | T             | T                 | T              |\n",
    "| F   | T   | F             | T                 | F              |\n",
    "| F   | F   | F             | F                 | F              |"
   ]
  }
 ],
 "metadata": {
  "kernelspec": {
   "display_name": "java (IJava/j!)",
   "language": "java",
   "name": "jbang-ijava"
  },
  "language_info": {
   "codemirror_mode": "java",
   "file_extension": ".jshell",
   "mimetype": "text/x-java-source",
   "name": "java",
   "pygments_lexer": "java",
   "version": "22.0.2"
  }
 },
 "nbformat": 4,
 "nbformat_minor": 2
}
