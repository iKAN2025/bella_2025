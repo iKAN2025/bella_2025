{
 "cells": [
  {
   "cell_type": "raw",
   "metadata": {
    "vscode": {
     "languageId": "raw"
    }
   },
   "source": [
    "---\n",
    "layout: post\n",
    "title: Unit 2 — Recap & Homework\n",
    "description: A recap of everything we covered today.\n",
    "type: collab\n",
    "toc: true\n",
    "permalink: /csa/unit2/period3/homework/\n",
    "menu: nav/object.html\n",
    "comments: true\n",
    "author: Aadit Mathur, Eric Yu, Shuban Pal, Rahul Verma\n",
    "---"
   ]
  },
  {
   "cell_type": "markdown",
   "metadata": {},
   "source": [
    "# Popcorn hacks"
   ]
  },
  {
   "cell_type": "markdown",
   "metadata": {},
   "source": [
    "For each of the 3 method calls below, what would happen?\n",
    "\n",
    "- Method call 1: `printTwoNumbers(2);` 2, 2\n",
    "- Method call 2: `printTwoNumbers();`1,1\n",
    "- Method call 3: `printTwoNumbers(5, 6);` 5,6\n",
    "\n",
    "\n",
    "\n",
    "\n",
    "<img width=\"1400\" alt=\"Screenshot 2024-09-26 at 11 15 06 AM\" src=\"https://github.com/user-attachments/assets/4a86136e-f2a2-4203-b2a8-1c4dcd377163\">\n"
   ]
  },
  {
   "cell_type": "code",
   "execution_count": 3,
   "metadata": {
    "vscode": {
     "languageId": "java"
    }
   },
   "outputs": [],
   "source": [
    "public class Concatentations\n",
    "{\n",
    "    public static void main(String[] args)\n",
    "    {\n",
    "        String name1 = \"Skibidi\";\n",
    "        String name2 = new String(\"Sigma\");\n",
    "        String name3 = new String(name1);\n",
    "\n",
    "        name1 += \"!!\";\n",
    "        String mystery = name1 + name2 + name3;\n",
    "\n",
    "        System.out.println(mystery);\n",
    "    }\n",
    "}\n",
    "// Skibidi!!SigmaSkibidi\n",
    "// Uncomment the following method call to run the code and check your answer!\n",
    "//Concatentations.main(null);"
   ]
  },
  {
   "cell_type": "code",
   "execution_count": 4,
   "metadata": {
    "vscode": {
     "languageId": "java"
    }
   },
   "outputs": [
    {
     "name": "stdout",
     "output_type": "stream",
     "text": [
      "\n",
      "What is printed if we only pass one parameter into the substring method?\n",
      "ibidi\n"
     ]
    }
   ],
   "source": [
    "public class SubstringOfDemo {\n",
    "    public static void main(String[] args) {\n",
    "        String word = new String(\"skibidi\");\n",
    "\n",
    "        System.out.println(\"\\nWhat is printed if we only pass one parameter into the substring method?\");\n",
    "        System.out.println(word.substring(2));\n",
    "    }\n",
    "}\n",
    "//ibidi\n",
    "// Uncomment the following method call to run the code and check your answer!\n",
    "SubstringOfDemo.main(null)"
   ]
  },
  {
   "cell_type": "code",
   "execution_count": 1,
   "metadata": {
    "vscode": {
     "languageId": "java"
    }
   },
   "outputs": [
    {
     "name": "stdout",
     "output_type": "stream",
     "text": [
      "Woof\n"
     ]
    }
   ],
   "source": [
    "public class Dog {\n",
    "\n",
    "    private String name;\n",
    "    private String breed;\n",
    "    private int age;\n",
    "    \n",
    "    public Dog(String name, String breed, int age) {\n",
    "        this.name = name;\n",
    "        this.breed = breed;\n",
    "        this.age = age;\n",
    "    }\n",
    "\n",
    "    public void bark() {\n",
    "        System.out.println(\"Woof\");\n",
    "    }\n",
    "\n",
    "    public static void main(String[] args) {\n",
    "            Dog myDog = new Dog(\"Shelby\", \"Golden Retriever\", 5); // name, breed, age\n",
    "            myDog.bark(); // should print \"Woof!\"\n",
    "     }\n",
    "    \n",
    "}\n",
    "\n",
    "Dog.main(null);"
   ]
  },
  {
   "cell_type": "code",
   "execution_count": 2,
   "metadata": {
    "vscode": {
     "languageId": "java"
    }
   },
   "outputs": [
    {
     "name": "stdout",
     "output_type": "stream",
     "text": [
      "The movie is  called Life\n"
     ]
    }
   ],
   "source": [
    "public class Movie {\n",
    "\n",
    "    public String movie;\n",
    "\n",
    "    public Movie(String movie) {\n",
    "        this.movie = movie;\n",
    "\n",
    "    }\n",
    "\n",
    "    public void printMovie() {\n",
    "        System.out.println(\"The movie is  called \" + this.movie);\n",
    "\n",
    "\n",
    "    }\n",
    "\n",
    "    public static void main(String[] args) {\n",
    "        // Example of creating a Movie object and printing the movie name\n",
    "        Movie myMovie = new Movie(\"Life\");\n",
    "        myMovie.printMovie(); // Output: The movie is Inception\n",
    "    }\n",
    "\n",
    "  \n",
    "}\n",
    "\n",
    "\n",
    "\n",
    "Movie.main(null);\n"
   ]
  },
  {
   "cell_type": "code",
   "execution_count": 6,
   "metadata": {
    "vscode": {
     "languageId": "java"
    }
   },
   "outputs": [
    {
     "name": "stdout",
     "output_type": "stream",
     "text": [
      "Sum of integers: 125\n",
      "Product of doubles: 8.53452\n"
     ]
    }
   ],
   "source": [
    "public class Main {\n",
    "    public static void main(String[] args) {\n",
    "        Integer num1 = new Integer(50);\n",
    "        Integer num2 = new Integer(75);\n",
    "        \n",
    "        Double d1 = 3.14;\n",
    "        double d2 = new Double(2.718);\n",
    "        \n",
    "        System.out.println(\"Sum of integers: \" + (num1 + num2));\n",
    "        System.out.println(\"Product of doubles: \" + (d1 * d2));\n",
    "    }\n",
    "}\n",
    "\n",
    "Main.main(null)"
   ]
  },
  {
   "cell_type": "code",
   "execution_count": 1,
   "metadata": {
    "vscode": {
     "languageId": "java"
    }
   },
   "outputs": [
    {
     "name": "stdout",
     "output_type": "stream",
     "text": [
      "Integer object (autoboxed): 42\n",
      "Primitive double (unboxed): 3.14\n"
     ]
    }
   ],
   "source": [
    "public class Main {\n",
    "    public static void main(String[] args) {\n",
    "        Integer integerObject = 42; // autoboxing primitive int to Integer\n",
    "\n",
    "        // Create a double primitive from a Double object (unboxing)\n",
    "        Double doubleObject = 3.14; // autoboxing primitive double to Double\n",
    "        double primitiveDouble = doubleObject; // unboxing Double to primitive double\n",
    "\n",
    "        // Print both values\n",
    "        System.out.println(\"Integer object (autoboxed): \" + integerObject);\n",
    "        System.out.println(\"Primitive double (unboxed): \" + primitiveDouble);\n",
    "    }\n",
    "}\n",
    "Main.main(null)"
   ]
  },
  {
   "cell_type": "code",
   "execution_count": 9,
   "metadata": {
    "vscode": {
     "languageId": "java"
    }
   },
   "outputs": [
    {
     "name": "stdout",
     "output_type": "stream",
     "text": [
      "Enter two numbers: Random number between 1.0 and 2.0: 1.2933994673390947\n"
     ]
    }
   ],
   "source": [
    "import java.util.*;\n",
    "\n",
    "public class Main {\n",
    "    // Method to generate a random double between a and b\n",
    "    public static double randomize(double a, double b) {\n",
    "        // Ensure a is less than b for generating the random number\n",
    "        if (a > b) {\n",
    "            double temp = a;\n",
    "            a = b;\n",
    "            b = temp;\n",
    "        }\n",
    "        return a + (b - a) * Math.random(); // Generate random number between a and b\n",
    "    }\n",
    "\n",
    "    public static void main(String[] args) {\n",
    "        Scanner input = new Scanner(System.in); // Scanner akss for input\n",
    "        System.out.print(\"Enter two numbers:\");\n",
    "        double a = input.nextDouble();\n",
    "        double b = input.nextDouble();\n",
    "\n",
    "        System.out.println(\" Random number between \" + a + \" and \" + b + \": \" + randomize(a, b));\n",
    "    }\n",
    "}\n",
    "\n",
    "Main.main(null)"
   ]
  },
  {
   "cell_type": "markdown",
   "metadata": {
    "vscode": {
     "languageId": "java"
    }
   },
   "source": [
    "# Homework\n",
    "Now, it's time to practice! The following problem will incorporate the following concepts:\n",
    "- Classes\n",
    "    - Constructors\n",
    "- Methods\n",
    "    - Void methods\n",
    "    - Non-void methods\n",
    "- Math class\n",
    "- `Integer` and `Double` wrapper classes\n",
    "- String methods"
   ]
  },
  {
   "cell_type": "code",
   "execution_count": 2,
   "metadata": {
    "vscode": {
     "languageId": "java"
    }
   },
   "outputs": [
    {
     "name": "stdout",
     "output_type": "stream",
     "text": [
      "Circle 1:\n",
      "Radius: 5.0\n",
      "Circumference: 31.41592653589793\n",
      "Area: 78.53981633974483\n",
      "\n",
      "Circle 2:\n",
      "Radius: 7.0\n",
      "Circumference: 43.982297150257104\n",
      "Area: 153.93804002589985\n",
      "\n",
      "Student 1:\n",
      "Name: Aadit\n",
      "Name Length: 5\n",
      "Grade: 75.0\n",
      "Scaled Grade: 37.5\n",
      "\n",
      "Student 2:\n",
      "Name: Emily\n",
      "Name Length: 5\n",
      "Grade: 45.0\n",
      "Scaled Grade: 22.5\n"
     ]
    }
   ],
   "source": [
    "public class Circle {\n",
    "    // 1. Class variable: radius\n",
    "    double radius;\n",
    "\n",
    "    // 2. Constructor that takes in the radius as a parameter\n",
    "    public Circle(double radius) {\n",
    "        this.radius = radius;\n",
    "    }\n",
    "\n",
    "    // 3. circumference() method: Calculate and return the circumference\n",
    "    public double circumference() {\n",
    "        return 2 * Math.PI * radius;\n",
    "    }\n",
    "\n",
    "    // 4. area() method: Calculate and return the area, use Math.pow()\n",
    "    public double area() {\n",
    "        return Math.PI * Math.pow(radius, 2);\n",
    "    }\n",
    "}\n",
    " \n",
    "public class Student {\n",
    "    // 1. Class variables: name and grade\n",
    "    String name;\n",
    "    Integer grade;\n",
    "\n",
    "    // 2. Constructor to initialize name and grade\n",
    "    public Student(String name, Integer grade) {\n",
    "        this.name = name;\n",
    "        this.grade = grade;\n",
    "    }\n",
    "\n",
    "    // 3. nameLength() method: Return the length of the student's name\n",
    "    public int nameLength() {\n",
    "        return name.length();\n",
    "    }\n",
    "\n",
    "    // 4. getGradeAsDouble() method: Return the grade as the Double wrapper type\n",
    "    public Double getGradeAsDouble() {\n",
    "        return grade.doubleValue();\n",
    "    }\n",
    "\n",
    "    // 5. getScaledGrade() method: Return grade divided by 2\n",
    "    public double getScaledGrade() {\n",
    "        return grade / 2.0;\n",
    "    }\n",
    "}\n",
    "\n",
    "\n",
    "public class Main {\n",
    "    public static void main(String[] args) {\n",
    "        // Testing the Circle class\n",
    "        Circle circle1 = new Circle(5.0);\n",
    "        Circle circle2 = new Circle(7.0);\n",
    "\n",
    "        System.out.println(\"Circle 1:\");\n",
    "        System.out.println(\"Radius: \" + circle1.radius);\n",
    "        System.out.println(\"Circumference: \" + circle1.circumference());\n",
    "        System.out.println(\"Area: \" + circle1.area());\n",
    "\n",
    "        System.out.println(\"\\nCircle 2:\");\n",
    "        System.out.println(\"Radius: \" + circle2.radius);\n",
    "        System.out.println(\"Circumference: \" + circle2.circumference());\n",
    "        System.out.println(\"Area: \" + circle2.area());\n",
    "\n",
    "        // Testing the Student class\n",
    "        Student student1 = new Student(\"Aadit\", 75);\n",
    "        Student student2 = new Student(\"Emily\", 45);\n",
    "\n",
    "        System.out.println(\"\\nStudent 1:\");\n",
    "        System.out.println(\"Name: \" + student1.name);\n",
    "        System.out.println(\"Name Length: \" + student1.nameLength());\n",
    "        System.out.println(\"Grade: \" + student1.getGradeAsDouble());\n",
    "        System.out.println(\"Scaled Grade: \" + student1.getScaledGrade());\n",
    "\n",
    "        System.out.println(\"\\nStudent 2:\");\n",
    "        System.out.println(\"Name: \" + student2.name);\n",
    "        System.out.println(\"Name Length: \" + student2.nameLength());\n",
    "        System.out.println(\"Grade: \" + student2.getGradeAsDouble());\n",
    "        System.out.println(\"Scaled Grade: \" + student2.getScaledGrade());\n",
    "    }\n",
    "}\n",
    "\n",
    "Main.main(null)"
   ]
  },
  {
   "cell_type": "code",
   "execution_count": 11,
   "metadata": {
    "vscode": {
     "languageId": "java"
    }
   },
   "outputs": [
    {
     "name": "stdout",
     "output_type": "stream",
     "text": [
      "Sum of integers: 125\n",
      "Product of doubles: 8.53452\n"
     ]
    }
   ],
   "source": [
    "public class Main {\n",
    "    public static void main(String[] args) {\n",
    "        Integer num1 = new Integer(50);\n",
    "        Integer num2 = new Integer(75);\n",
    "        \n",
    "        Double d1 = 3.14;\n",
    "        double d2 = new Double(2.718);\n",
    "        \n",
    "        System.out.println(\"Sum of integers: \" + (num1 + num2));\n",
    "        System.out.println(\"Product of doubles: \" + (d1 * d2));\n",
    "    }\n",
    "}\n",
    "\n",
    "Main.main(null);"
   ]
  }
 ],
 "metadata": {
  "kernelspec": {
   "display_name": "java (IJava/j!)",
   "language": "java",
   "name": "jbang-ijava"
  },
  "language_info": {
   "codemirror_mode": "java",
   "file_extension": ".jshell",
   "mimetype": "text/x-java-source",
   "name": "Java",
   "pygments_lexer": "java",
   "version": "22.0.2"
  }
 },
 "nbformat": 4,
 "nbformat_minor": 2
}
