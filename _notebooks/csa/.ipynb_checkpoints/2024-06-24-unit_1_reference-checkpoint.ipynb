{
 "cells": [
  {
   "cell_type": "raw",
   "metadata": {
    "vscode": {
     "languageId": "raw"
    }
   },
   "source": [
    "---\n",
    "layout: post\n",
    "toc: true\n",
    "title: Unit 1 - Reference Types\n",
    "description: An overview of Reference Types\n",
    "authors: Aniket Chakradeo, Soham Kamat\n",
    "permalink: /csa/unit1/reference\n",
    "---"
   ]
  },
  {
   "cell_type": "markdown",
   "metadata": {},
   "source": [
    "## Refrence Types\n",
    "\n",
    "Reference types in Java include classes, arrays, and interfaces. Unlike primitive types, reference types store addresses (references) to objects rather than the objects themselves.\n",
    "\n",
    "### Classes\n",
    "- Create complex data structures by grouping variables and methods.\n",
    "\n",
    "Example:\n",
    "```java\n",
    "class Person {\n",
    "    String name;\n",
    "    int age;\n",
    "}\n",
    "Person person = new Person(); // `person` reference in stack, `Person` object in heap\n",
    "```\n",
    "### Arrays\n",
    "- Collections of variables of the same type.\n",
    "\n",
    "Example:\n",
    "```java\n",
    "int[] numbers = new int[5]; // `numbers` reference in stack, array in heap\n",
    "```\n",
    "\n",
    "### Popcorn Hack"
   ]
  },
  {
   "cell_type": "code",
   "execution_count": 1,
   "metadata": {},
   "outputs": [
    {
     "ename": "SyntaxError",
     "evalue": "invalid syntax (1547937683.py, line 1)",
     "output_type": "error",
     "traceback": [
      "\u001b[0;36m  File \u001b[0;32m\"/var/folders/4v/2rbq61_5329d8y83lbvf77680000gn/T/ipykernel_91150/1547937683.py\"\u001b[0;36m, line \u001b[0;32m1\u001b[0m\n\u001b[0;31m    public class Main {\u001b[0m\n\u001b[0m           ^\u001b[0m\n\u001b[0;31mSyntaxError\u001b[0m\u001b[0;31m:\u001b[0m invalid syntax\n"
     ]
    }
   ],
   "source": [
    "public class Main {\n",
    "    public static void main(String[] args) {\n",
    "        // Create a reference type variable of type String\n",
    "        String[] myString = \"Hello, World!\";\n",
    "        \n",
    "        // Create a reference type variable of type Array\n",
    "        String[] myArray = new int[] {1, 2, 3, 4, 5};\n",
    "\n",
    "        // Print the values\n",
    "        System.out.println(myString);\n",
    "        System.out.println(Arrays.toString(myArray));\n",
    "    }\n",
    "}\n",
    "\n",
    "Main.main(null);"
   ]
  }
 ],
 "metadata": {
  "kernelspec": {
   "display_name": "java (IJava/j!)",
   "language": "java",
   "name": "jbang-ijava"
  },
  "language_info": {
   "codemirror_mode": {
    "name": "ipython",
    "version": 3
   },
   "file_extension": ".py",
   "mimetype": "text/x-python",
   "name": "java",
   "nbconvert_exporter": "python",
   "pygments_lexer": "ipython3",
   "version": "3.11.4"
  }
 },
 "nbformat": 4,
 "nbformat_minor": 2
}
